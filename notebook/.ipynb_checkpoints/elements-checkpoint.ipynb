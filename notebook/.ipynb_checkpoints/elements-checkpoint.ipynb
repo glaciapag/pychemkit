{
 "cells": [
  {
   "cell_type": "code",
   "execution_count": 1,
   "metadata": {},
   "outputs": [],
   "source": [
    "import re\n",
    "import numpy as np\n",
    "from collections import Counter"
   ]
  },
  {
   "cell_type": "code",
   "execution_count": 2,
   "metadata": {},
   "outputs": [],
   "source": [
    "formula = 'C6H2(NO2)3CH3(C6H12)'\n",
    "formula2 = 'CH3(He)OH'"
   ]
  },
  {
   "cell_type": "code",
   "execution_count": 3,
   "metadata": {},
   "outputs": [],
   "source": [
    "def flatten(multi_dim_list):\n",
    "    flattened = []\n",
    "    for row in multi_dim_list:\n",
    "        for col in row:\n",
    "            flattened.append(col)\n",
    "    return flattened"
   ]
  },
  {
   "cell_type": "code",
   "execution_count": 4,
   "metadata": {},
   "outputs": [],
   "source": [
    "def get_multiplier(str_pattern):\n",
    "    try:\n",
    "        mult = str_pattern[1][-1]\n",
    "        mult = int(mult)\n",
    "    except ValueError:\n",
    "        mult = 1\n",
    "    except IndexError:\n",
    "        mult = 1\n",
    "    return mult"
   ]
  },
  {
   "cell_type": "code",
   "execution_count": 13,
   "metadata": {},
   "outputs": [],
   "source": [
    "def get_elems_array(formula_str: str) -> []:\n",
    "    \n",
    "    elems_pt = '\\([A-Za-z0-9]*\\)\\d*' #Everything inside a parenthesis and the coeff ex: (CH3)2\n",
    "    elems_pt_compiled = re.compile(elems_pt)\n",
    "    \n",
    "    elems_inside_parens = elems_pt_compiled.findall(formula_str)\n",
    "    elems_outside_parens = re.split(elems_pt, formula_str)\n",
    "    \n",
    "    elems_count_list = []\n",
    "    \n",
    "    for elems in elems_inside_parens:\n",
    "        el = re.compile('\\(*[A-Z][a-z]*\\d*\\)*\\d*')\n",
    "        res = el.findall(elems)\n",
    "        res = [r.replace('(', '') for r in res]\n",
    "        if res:\n",
    "            multiplier = get_multiplier(res)\n",
    "    \n",
    "            res = [f'{multiplier}{r}' for r in res]\n",
    "            res = [r.replace(f'){multiplier}', '') if multiplier > 1 else r.replace(')', '') for r in res]\n",
    "            elems_count_list.append(res)\n",
    "            \n",
    "    for elems in elems_outside_parens:\n",
    "        el = re.compile('[A-Z][a-z]*\\d*')\n",
    "        res = el.findall(elems)\n",
    "        if res:\n",
    "            res = [f'1{r}' for r in res]\n",
    "            elems_count_list.append(res)\n",
    "            \n",
    "    elems_count_list = flatten(elems_count_list)\n",
    "            \n",
    "    return elems_count_list"
   ]
  },
  {
   "cell_type": "code",
   "execution_count": 14,
   "metadata": {},
   "outputs": [],
   "source": [
    "def parse_formula(formula_str) -> {}:\n",
    "    \n",
    "    elems_array = get_elems_array(formula_str)\n",
    "    \n",
    "    elems_count_map_list = []\n",
    "    \n",
    "    for elems in elems_array:\n",
    "        \n",
    "        mult = int(elems[0])\n",
    "        coeff_pt = re.compile('\\d+')\n",
    "\n",
    "        coeff_res = coeff_pt.findall(elems[1:])\n",
    "\n",
    "        if coeff_res:\n",
    "            coeff = coeff_res[0]\n",
    "            num_elems = int(coeff) * mult\n",
    "        else:\n",
    "            coeff = ''\n",
    "            num_elems = 1 * mult\n",
    "            \n",
    "        symb = elems[1:].replace(coeff, '')\n",
    "        \n",
    "        elems_count_map_list.append(symb*num_elems)\n",
    "        \n",
    "    return Counter(''.join(elems_count_map_list))"
   ]
  },
  {
   "cell_type": "code",
   "execution_count": 15,
   "metadata": {},
   "outputs": [
    {
     "data": {
      "text/plain": [
       "Counter({'N': 3, 'O': 6, 'C': 13, 'H': 17})"
      ]
     },
     "execution_count": 15,
     "metadata": {},
     "output_type": "execute_result"
    }
   ],
   "source": [
    "parse_formula(formula)"
   ]
  },
  {
   "cell_type": "code",
   "execution_count": 17,
   "metadata": {},
   "outputs": [
    {
     "data": {
      "text/plain": [
       "Counter({'N': 3, 'O': 6, 'C': 13, 'H': 17})"
      ]
     },
     "execution_count": 17,
     "metadata": {},
     "output_type": "execute_result"
    }
   ],
   "source": [
    "parse_formula(formula)"
   ]
  },
  {
   "cell_type": "code",
   "execution_count": 19,
   "metadata": {},
   "outputs": [
    {
     "name": "stdout",
     "output_type": "stream",
     "text": [
      "N\n",
      "O\n",
      "C\n",
      "H\n"
     ]
    }
   ],
   "source": [
    "for k, v in parse_formula(formula).items():\n",
    "    print(Elek)"
   ]
  },
  {
   "cell_type": "code",
   "execution_count": null,
   "metadata": {},
   "outputs": [],
   "source": []
  },
  {
   "cell_type": "code",
   "execution_count": null,
   "metadata": {},
   "outputs": [],
   "source": []
  },
  {
   "cell_type": "code",
   "execution_count": null,
   "metadata": {},
   "outputs": [],
   "source": []
  },
  {
   "cell_type": "code",
   "execution_count": null,
   "metadata": {},
   "outputs": [],
   "source": []
  },
  {
   "cell_type": "code",
   "execution_count": null,
   "metadata": {},
   "outputs": [],
   "source": []
  },
  {
   "cell_type": "code",
   "execution_count": null,
   "metadata": {},
   "outputs": [],
   "source": []
  },
  {
   "cell_type": "code",
   "execution_count": null,
   "metadata": {},
   "outputs": [],
   "source": []
  },
  {
   "cell_type": "code",
   "execution_count": null,
   "metadata": {},
   "outputs": [],
   "source": []
  },
  {
   "cell_type": "code",
   "execution_count": null,
   "metadata": {},
   "outputs": [],
   "source": []
  },
  {
   "cell_type": "code",
   "execution_count": null,
   "metadata": {},
   "outputs": [],
   "source": []
  },
  {
   "cell_type": "code",
   "execution_count": null,
   "metadata": {},
   "outputs": [],
   "source": []
  },
  {
   "cell_type": "code",
   "execution_count": null,
   "metadata": {},
   "outputs": [],
   "source": [
    "# split by parenthesis\n",
    "paren_pt2 = '\\([A-Za-z0-9]*\\)\\d*'\n",
    "\n",
    "paren_re = re.compile(paren_pt2)\n",
    "\n",
    "elems_inside_parens = paren_re.findall(formula)\n",
    "\n",
    "elems_inside_parens"
   ]
  },
  {
   "cell_type": "code",
   "execution_count": null,
   "metadata": {},
   "outputs": [],
   "source": [
    "re.split(paren_pt2, formula)"
   ]
  },
  {
   "cell_type": "code",
   "execution_count": null,
   "metadata": {},
   "outputs": [],
   "source": []
  },
  {
   "cell_type": "code",
   "execution_count": null,
   "metadata": {},
   "outputs": [],
   "source": [
    "paren = paren_re.findall(formula)[0]\n",
    "paren"
   ]
  },
  {
   "cell_type": "code",
   "execution_count": null,
   "metadata": {},
   "outputs": [],
   "source": [
    "breakdown_list = formula.split(paren) + [paren]\n",
    "breakdown_list"
   ]
  },
  {
   "cell_type": "code",
   "execution_count": null,
   "metadata": {},
   "outputs": [],
   "source": [
    "el = re.compile('\\(*[A-Z][a-z]*\\d*\\)*\\d*')"
   ]
  },
  {
   "cell_type": "code",
   "execution_count": null,
   "metadata": {},
   "outputs": [],
   "source": [
    "for l in breakdown_list:\n",
    "    res = el.findall(l)\n",
    "    print(res)"
   ]
  },
  {
   "cell_type": "code",
   "execution_count": null,
   "metadata": {},
   "outputs": [],
   "source": [
    "int('()')"
   ]
  },
  {
   "cell_type": "code",
   "execution_count": null,
   "metadata": {},
   "outputs": [],
   "source": []
  },
  {
   "cell_type": "code",
   "execution_count": null,
   "metadata": {},
   "outputs": [],
   "source": []
  },
  {
   "cell_type": "code",
   "execution_count": null,
   "metadata": {},
   "outputs": [],
   "source": [
    "from enum import Enum, unique"
   ]
  },
  {
   "cell_type": "code",
   "execution_count": null,
   "metadata": {},
   "outputs": [],
   "source": [
    "@unique\n",
    "class Enum1(Enum):\n",
    "    A = 'A'\n",
    "    B = 'B'\n",
    "    \n",
    "@unique\n",
    "class Enum2(Enum):\n",
    "    C = '1'\n",
    "    D = '2'"
   ]
  },
  {
   "cell_type": "code",
   "execution_count": null,
   "metadata": {},
   "outputs": [],
   "source": [
    "data_dict = {\n",
    "    **{e: Enum2.C for e in Enum1},\n",
    "    **{e: Enum2.D for e in Enum1}\n",
    "}"
   ]
  },
  {
   "cell_type": "code",
   "execution_count": null,
   "metadata": {},
   "outputs": [],
   "source": [
    "data_dict.values()"
   ]
  },
  {
   "cell_type": "code",
   "execution_count": null,
   "metadata": {},
   "outputs": [],
   "source": []
  }
 ],
 "metadata": {
  "interpreter": {
   "hash": "9ebb5d3075a9dfce88b899f121ee12ac05d79c28054157a258292a5fbc5b4fbe"
  },
  "kernelspec": {
   "display_name": "Python 3 (ipykernel)",
   "language": "python",
   "name": "python3"
  },
  "language_info": {
   "codemirror_mode": {
    "name": "ipython",
    "version": 3
   },
   "file_extension": ".py",
   "mimetype": "text/x-python",
   "name": "python",
   "nbconvert_exporter": "python",
   "pygments_lexer": "ipython3",
   "version": "3.9.12"
  }
 },
 "nbformat": 4,
 "nbformat_minor": 2
}
