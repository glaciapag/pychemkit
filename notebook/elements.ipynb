{
 "cells": [
  {
   "cell_type": "code",
   "execution_count": 2,
   "metadata": {},
   "outputs": [],
   "source": [
    "import re\n",
    "import numpy as np\n",
    "from collections import Counter"
   ]
  },
  {
   "cell_type": "code",
   "execution_count": null,
   "metadata": {},
   "outputs": [],
   "source": [
    "formula = 'C6H2(NO2)3CH3(C6H12)'\n",
    "formula2 = 'CH3(He)OH'"
   ]
  },
  {
   "cell_type": "code",
   "execution_count": null,
   "metadata": {},
   "outputs": [],
   "source": [
    "def flatten(multi_dim_list):\n",
    "    flattened = []\n",
    "    for row in multi_dim_list:\n",
    "        for col in row:\n",
    "            flattened.append(col)\n",
    "    return flattened"
   ]
  },
  {
   "cell_type": "code",
   "execution_count": null,
   "metadata": {},
   "outputs": [],
   "source": [
    "def get_multiplier(str_pattern):\n",
    "    try:\n",
    "        mult = str_pattern[1][-1]\n",
    "        mult = int(mult)\n",
    "    except ValueError:\n",
    "        mult = 1\n",
    "    except IndexError:\n",
    "        mult = 1\n",
    "    return mult"
   ]
  },
  {
   "cell_type": "code",
   "execution_count": null,
   "metadata": {},
   "outputs": [],
   "source": [
    "def get_elems_array(formula_str: str) -> []:\n",
    "    \n",
    "    elems_pt = '\\([A-Za-z0-9]*\\)\\d*' #Everything inside a parenthesis and the coeff ex: (CH3)2\n",
    "    elems_pt_compiled = re.compile(elems_pt)\n",
    "    \n",
    "    elems_inside_parens = elems_pt_compiled.findall(formula_str)\n",
    "    elems_outside_parens = re.split(elems_pt, formula_str)\n",
    "    \n",
    "    elems_count_list = []\n",
    "    \n",
    "    for elems in elems_inside_parens:\n",
    "        el = re.compile('\\(*[A-Z][a-z]*\\d*\\)*\\d*')\n",
    "        res = el.findall(elems)\n",
    "        res = [r.replace('(', '') for r in res]\n",
    "        if res:\n",
    "            multiplier = get_multiplier(res)\n",
    "    \n",
    "            res = [f'{multiplier}{r}' for r in res]\n",
    "            res = [r.replace(f'){multiplier}', '') if multiplier > 1 else r.replace(')', '') for r in res]\n",
    "            elems_count_list.append(res)\n",
    "            \n",
    "    for elems in elems_outside_parens:\n",
    "        el = re.compile('[A-Z][a-z]*\\d*')\n",
    "        res = el.findall(elems)\n",
    "        if res:\n",
    "            res = [f'1{r}' for r in res]\n",
    "            elems_count_list.append(res)\n",
    "            \n",
    "    elems_count_list = flatten(elems_count_list)\n",
    "            \n",
    "    return elems_count_list"
   ]
  },
  {
   "cell_type": "code",
   "execution_count": null,
   "metadata": {},
   "outputs": [],
   "source": [
    "def parse_formula(formula_str) -> {}:\n",
    "    \n",
    "    elems_array = get_elems_array(formula_str)\n",
    "    \n",
    "    elems_count_map_list = []\n",
    "    \n",
    "    for elems in elems_array:\n",
    "        \n",
    "        mult = int(elems[0])\n",
    "        coeff_pt = re.compile('\\d+')\n",
    "\n",
    "        coeff_res = coeff_pt.findall(elems[1:])\n",
    "\n",
    "        if coeff_res:\n",
    "            coeff = coeff_res[0]\n",
    "            num_elems = int(coeff) * mult\n",
    "        else:\n",
    "            coeff = ''\n",
    "            num_elems = 1 * mult\n",
    "            \n",
    "        symb = elems[1:].replace(coeff, '')\n",
    "        \n",
    "        elems_count_map_list.append(symb*num_elems)\n",
    "        \n",
    "    return Counter(''.join(elems_count_map_list))"
   ]
  },
  {
   "cell_type": "code",
   "execution_count": null,
   "metadata": {},
   "outputs": [],
   "source": [
    "parse_formula(formula)"
   ]
  },
  {
   "cell_type": "code",
   "execution_count": null,
   "metadata": {},
   "outputs": [],
   "source": [
    "parse_formula(formula)"
   ]
  },
  {
   "cell_type": "code",
   "execution_count": null,
   "metadata": {},
   "outputs": [],
   "source": [
    "for k, v in parse_formula(formula).items():\n",
    "    print(Elek)"
   ]
  },
  {
   "cell_type": "code",
   "execution_count": null,
   "metadata": {},
   "outputs": [],
   "source": [
    "def elementify(element_coeff_map):\n",
    "    elementified_map = {}\n",
    "    for elem, coeff in element_coeff_map.items():\n",
    "        element = Element(elem)\n",
    "        elementified_map[element] = coeff\n",
    "    return element_coeff_map"
   ]
  },
  {
   "cell_type": "code",
   "execution_count": null,
   "metadata": {},
   "outputs": [],
   "source": [
    "elementify(parse_formula(formula))"
   ]
  },
  {
   "cell_type": "code",
   "execution_count": null,
   "metadata": {},
   "outputs": [],
   "source": []
  },
  {
   "cell_type": "code",
   "execution_count": null,
   "metadata": {},
   "outputs": [],
   "source": []
  },
  {
   "cell_type": "code",
   "execution_count": null,
   "metadata": {},
   "outputs": [],
   "source": []
  },
  {
   "cell_type": "code",
   "execution_count": null,
   "metadata": {},
   "outputs": [],
   "source": []
  },
  {
   "cell_type": "code",
   "execution_count": null,
   "metadata": {},
   "outputs": [],
   "source": []
  },
  {
   "cell_type": "code",
   "execution_count": null,
   "metadata": {},
   "outputs": [],
   "source": []
  },
  {
   "cell_type": "code",
   "execution_count": null,
   "metadata": {},
   "outputs": [],
   "source": []
  },
  {
   "cell_type": "code",
   "execution_count": null,
   "metadata": {},
   "outputs": [],
   "source": []
  },
  {
   "cell_type": "code",
   "execution_count": null,
   "metadata": {},
   "outputs": [],
   "source": []
  },
  {
   "cell_type": "code",
   "execution_count": null,
   "metadata": {},
   "outputs": [],
   "source": [
    "# split by parenthesis\n",
    "paren_pt2 = '\\([A-Za-z0-9]*\\)\\d*'\n",
    "\n",
    "paren_re = re.compile(paren_pt2)\n",
    "\n",
    "elems_inside_parens = paren_re.findall(formula)\n",
    "\n",
    "elems_inside_parens"
   ]
  },
  {
   "cell_type": "code",
   "execution_count": null,
   "metadata": {},
   "outputs": [],
   "source": [
    "re.split(paren_pt2, formula)"
   ]
  },
  {
   "cell_type": "code",
   "execution_count": null,
   "metadata": {},
   "outputs": [],
   "source": []
  },
  {
   "cell_type": "code",
   "execution_count": null,
   "metadata": {},
   "outputs": [],
   "source": [
    "paren = paren_re.findall(formula)[0]\n",
    "paren"
   ]
  },
  {
   "cell_type": "code",
   "execution_count": null,
   "metadata": {},
   "outputs": [],
   "source": [
    "breakdown_list = formula.split(paren) + [paren]\n",
    "breakdown_list"
   ]
  },
  {
   "cell_type": "code",
   "execution_count": null,
   "metadata": {},
   "outputs": [],
   "source": [
    "el = re.compile('\\(*[A-Z][a-z]*\\d*\\)*\\d*')"
   ]
  },
  {
   "cell_type": "code",
   "execution_count": null,
   "metadata": {},
   "outputs": [],
   "source": [
    "for l in breakdown_list:\n",
    "    res = el.findall(l)\n",
    "    print(res)"
   ]
  },
  {
   "cell_type": "code",
   "execution_count": null,
   "metadata": {},
   "outputs": [],
   "source": [
    "int('()')"
   ]
  },
  {
   "cell_type": "code",
   "execution_count": null,
   "metadata": {},
   "outputs": [],
   "source": []
  },
  {
   "cell_type": "code",
   "execution_count": null,
   "metadata": {},
   "outputs": [],
   "source": []
  },
  {
   "cell_type": "code",
   "execution_count": null,
   "metadata": {},
   "outputs": [],
   "source": [
    "from enum import Enum, unique"
   ]
  },
  {
   "cell_type": "code",
   "execution_count": null,
   "metadata": {},
   "outputs": [],
   "source": [
    "@unique\n",
    "class Enum1(Enum):\n",
    "    A = 'A'\n",
    "    B = 'B'\n",
    "    \n",
    "@unique\n",
    "class Enum2(Enum):\n",
    "    C = '1'\n",
    "    D = '2'"
   ]
  },
  {
   "cell_type": "code",
   "execution_count": null,
   "metadata": {},
   "outputs": [],
   "source": [
    "data_dict = {\n",
    "    **{e: Enum2.C for e in Enum1},\n",
    "    **{e: Enum2.D for e in Enum1}\n",
    "}"
   ]
  },
  {
   "cell_type": "code",
   "execution_count": null,
   "metadata": {},
   "outputs": [],
   "source": [
    "data_dict.values()"
   ]
  },
  {
   "cell_type": "code",
   "execution_count": 17,
   "metadata": {},
   "outputs": [],
   "source": [
    "import pandas as pd\n",
    "import json"
   ]
  },
  {
   "cell_type": "code",
   "execution_count": 18,
   "metadata": {},
   "outputs": [],
   "source": [
    "json_path = f'../pychemkit/database/PubChemElements_all.json'"
   ]
  },
  {
   "cell_type": "code",
   "execution_count": 81,
   "metadata": {},
   "outputs": [
    {
     "name": "stdout",
     "output_type": "stream",
     "text": [
      "{'AtomicNumber': '1', 'Symbol': 'H', 'Name': 'Hydrogen', 'AtomicMass': '1.0080', 'CPKHexColor': 'FFFFFF', 'ElectronConfiguration': '1s1', 'Electronegativity': '2.2', 'AtomicRadius': '120', 'IonizationEnergy': '13.598', 'ElectronAffinity': '0.754', 'OxidationStates': '+1, -1', 'StandardState': 'Gas', 'MeltingPoint': '13.81', 'BoilingPoint': '20.28', 'Density': '0.00008988', 'GroupBlock': 'Nonmetal', 'YearDiscovered': '1766'}\n",
      "{'AtomicNumber': '2', 'Symbol': 'He', 'Name': 'Helium', 'AtomicMass': '4.00260', 'CPKHexColor': 'D9FFFF', 'ElectronConfiguration': '1s2', 'Electronegativity': '', 'AtomicRadius': '140', 'IonizationEnergy': '24.587', 'ElectronAffinity': '', 'OxidationStates': '0', 'StandardState': 'Gas', 'MeltingPoint': '0.95', 'BoilingPoint': '4.22', 'Density': '0.0001785', 'GroupBlock': 'Noble gas', 'YearDiscovered': '1868'}\n",
      "{'AtomicNumber': '3', 'Symbol': 'Li', 'Name': 'Lithium', 'AtomicMass': '7.0', 'CPKHexColor': 'CC80FF', 'ElectronConfiguration': '[He]2s1', 'Electronegativity': '0.98', 'AtomicRadius': '182', 'IonizationEnergy': '5.392', 'ElectronAffinity': '0.618', 'OxidationStates': '+1', 'StandardState': 'Solid', 'MeltingPoint': '453.65', 'BoilingPoint': '1615', 'Density': '0.534', 'GroupBlock': 'Alkali metal', 'YearDiscovered': '1817'}\n",
      "{'AtomicNumber': '4', 'Symbol': 'Be', 'Name': 'Beryllium', 'AtomicMass': '9.012183', 'CPKHexColor': 'C2FF00', 'ElectronConfiguration': '[He]2s2', 'Electronegativity': '1.57', 'AtomicRadius': '153', 'IonizationEnergy': '9.323', 'ElectronAffinity': '', 'OxidationStates': '+2', 'StandardState': 'Solid', 'MeltingPoint': '1560', 'BoilingPoint': '2744', 'Density': '1.85', 'GroupBlock': 'Alkaline earth metal', 'YearDiscovered': '1798'}\n",
      "{'AtomicNumber': '5', 'Symbol': 'B', 'Name': 'Boron', 'AtomicMass': '10.81', 'CPKHexColor': 'FFB5B5', 'ElectronConfiguration': '[He]2s2 2p1', 'Electronegativity': '2.04', 'AtomicRadius': '192', 'IonizationEnergy': '8.298', 'ElectronAffinity': '0.277', 'OxidationStates': '+3', 'StandardState': 'Solid', 'MeltingPoint': '2348', 'BoilingPoint': '4273', 'Density': '2.37', 'GroupBlock': 'Metalloid', 'YearDiscovered': '1808'}\n",
      "{'AtomicNumber': '6', 'Symbol': 'C', 'Name': 'Carbon', 'AtomicMass': '12.011', 'CPKHexColor': '909090', 'ElectronConfiguration': '[He]2s2 2p2', 'Electronegativity': '2.55', 'AtomicRadius': '170', 'IonizationEnergy': '11.260', 'ElectronAffinity': '1.263', 'OxidationStates': '+4, +2, -4', 'StandardState': 'Solid', 'MeltingPoint': '3823', 'BoilingPoint': '4098', 'Density': '2.2670', 'GroupBlock': 'Nonmetal', 'YearDiscovered': 'Ancient'}\n",
      "{'AtomicNumber': '7', 'Symbol': 'N', 'Name': 'Nitrogen', 'AtomicMass': '14.007', 'CPKHexColor': '3050F8', 'ElectronConfiguration': '[He] 2s2 2p3', 'Electronegativity': '3.04', 'AtomicRadius': '155', 'IonizationEnergy': '14.534', 'ElectronAffinity': '', 'OxidationStates': '+5, +4, +3, +2, +1, -1, -2, -3', 'StandardState': 'Gas', 'MeltingPoint': '63.15', 'BoilingPoint': '77.36', 'Density': '0.0012506', 'GroupBlock': 'Nonmetal', 'YearDiscovered': '1772'}\n",
      "{'AtomicNumber': '8', 'Symbol': 'O', 'Name': 'Oxygen', 'AtomicMass': '15.999', 'CPKHexColor': 'FF0D0D', 'ElectronConfiguration': '[He]2s2 2p4', 'Electronegativity': '3.44', 'AtomicRadius': '152', 'IonizationEnergy': '13.618', 'ElectronAffinity': '1.461', 'OxidationStates': '-2', 'StandardState': 'Gas', 'MeltingPoint': '54.36', 'BoilingPoint': '90.2', 'Density': '0.001429', 'GroupBlock': 'Nonmetal', 'YearDiscovered': '1774'}\n",
      "{'AtomicNumber': '9', 'Symbol': 'F', 'Name': 'Fluorine', 'AtomicMass': '18.99840316', 'CPKHexColor': '90E050', 'ElectronConfiguration': '[He]2s2 2p5', 'Electronegativity': '3.98', 'AtomicRadius': '135', 'IonizationEnergy': '17.423', 'ElectronAffinity': '3.339', 'OxidationStates': '-1', 'StandardState': 'Gas', 'MeltingPoint': '53.53', 'BoilingPoint': '85.03', 'Density': '0.001696', 'GroupBlock': 'Halogen', 'YearDiscovered': '1670'}\n",
      "{'AtomicNumber': '10', 'Symbol': 'Ne', 'Name': 'Neon', 'AtomicMass': '20.180', 'CPKHexColor': 'B3E3F5', 'ElectronConfiguration': '[He]2s2 2p6', 'Electronegativity': '', 'AtomicRadius': '154', 'IonizationEnergy': '21.565', 'ElectronAffinity': '', 'OxidationStates': '0', 'StandardState': 'Gas', 'MeltingPoint': '24.56', 'BoilingPoint': '27.07', 'Density': '0.0008999', 'GroupBlock': 'Noble gas', 'YearDiscovered': '1898'}\n",
      "{'AtomicNumber': '11', 'Symbol': 'Na', 'Name': 'Sodium', 'AtomicMass': '22.9897693', 'CPKHexColor': 'AB5CF2', 'ElectronConfiguration': '[Ne]3s1', 'Electronegativity': '0.93', 'AtomicRadius': '227', 'IonizationEnergy': '5.139', 'ElectronAffinity': '0.548', 'OxidationStates': '+1', 'StandardState': 'Solid', 'MeltingPoint': '370.95', 'BoilingPoint': '1156', 'Density': '0.97', 'GroupBlock': 'Alkali metal', 'YearDiscovered': '1807'}\n",
      "{'AtomicNumber': '12', 'Symbol': 'Mg', 'Name': 'Magnesium', 'AtomicMass': '24.305', 'CPKHexColor': '8AFF00', 'ElectronConfiguration': '[Ne]3s2', 'Electronegativity': '1.31', 'AtomicRadius': '173', 'IonizationEnergy': '7.646', 'ElectronAffinity': '', 'OxidationStates': '+2', 'StandardState': 'Solid', 'MeltingPoint': '923', 'BoilingPoint': '1363', 'Density': '1.74', 'GroupBlock': 'Alkaline earth metal', 'YearDiscovered': '1808'}\n",
      "{'AtomicNumber': '13', 'Symbol': 'Al', 'Name': 'Aluminum', 'AtomicMass': '26.981538', 'CPKHexColor': 'BFA6A6', 'ElectronConfiguration': '[Ne]3s2 3p1', 'Electronegativity': '1.61', 'AtomicRadius': '184', 'IonizationEnergy': '5.986', 'ElectronAffinity': '0.441', 'OxidationStates': '+3', 'StandardState': 'Solid', 'MeltingPoint': '933.437', 'BoilingPoint': '2792', 'Density': '2.70', 'GroupBlock': 'Post-transition metal', 'YearDiscovered': 'Ancient'}\n",
      "{'AtomicNumber': '14', 'Symbol': 'Si', 'Name': 'Silicon', 'AtomicMass': '28.085', 'CPKHexColor': 'F0C8A0', 'ElectronConfiguration': '[Ne]3s2 3p2', 'Electronegativity': '1.9', 'AtomicRadius': '210', 'IonizationEnergy': '8.152', 'ElectronAffinity': '1.385', 'OxidationStates': '+4, +2, -4', 'StandardState': 'Solid', 'MeltingPoint': '1687', 'BoilingPoint': '3538', 'Density': '2.3296', 'GroupBlock': 'Metalloid', 'YearDiscovered': '1854'}\n",
      "{'AtomicNumber': '15', 'Symbol': 'P', 'Name': 'Phosphorus', 'AtomicMass': '30.97376200', 'CPKHexColor': 'FF8000', 'ElectronConfiguration': '[Ne]3s2 3p3', 'Electronegativity': '2.19', 'AtomicRadius': '180', 'IonizationEnergy': '10.487', 'ElectronAffinity': '0.746', 'OxidationStates': '+5, +3, -3', 'StandardState': 'Solid', 'MeltingPoint': '317.3', 'BoilingPoint': '553.65', 'Density': '1.82', 'GroupBlock': 'Nonmetal', 'YearDiscovered': '1669'}\n",
      "{'AtomicNumber': '16', 'Symbol': 'S', 'Name': 'Sulfur', 'AtomicMass': '32.07', 'CPKHexColor': 'FFFF30', 'ElectronConfiguration': '[Ne]3s2 3p4', 'Electronegativity': '2.58', 'AtomicRadius': '180', 'IonizationEnergy': '10.360', 'ElectronAffinity': '2.077', 'OxidationStates': '+6, +4, -2', 'StandardState': 'Solid', 'MeltingPoint': '388.36', 'BoilingPoint': '717.75', 'Density': '2.067', 'GroupBlock': 'Nonmetal', 'YearDiscovered': 'Ancient'}\n",
      "{'AtomicNumber': '17', 'Symbol': 'Cl', 'Name': 'Chlorine', 'AtomicMass': '35.45', 'CPKHexColor': '1FF01F', 'ElectronConfiguration': '[Ne]3s2 3p5', 'Electronegativity': '3.16', 'AtomicRadius': '175', 'IonizationEnergy': '12.968', 'ElectronAffinity': '3.617', 'OxidationStates': '+7, +5, +1, -1', 'StandardState': 'Gas', 'MeltingPoint': '171.65', 'BoilingPoint': '239.11', 'Density': '0.003214', 'GroupBlock': 'Halogen', 'YearDiscovered': '1774'}\n",
      "{'AtomicNumber': '18', 'Symbol': 'Ar', 'Name': 'Argon', 'AtomicMass': '39.9', 'CPKHexColor': '80D1E3', 'ElectronConfiguration': '[Ne]3s2 3p6', 'Electronegativity': '', 'AtomicRadius': '188', 'IonizationEnergy': '15.760', 'ElectronAffinity': '', 'OxidationStates': '0', 'StandardState': 'Gas', 'MeltingPoint': '83.8', 'BoilingPoint': '87.3', 'Density': '0.0017837', 'GroupBlock': 'Noble gas', 'YearDiscovered': '1894'}\n",
      "{'AtomicNumber': '19', 'Symbol': 'K', 'Name': 'Potassium', 'AtomicMass': '39.0983', 'CPKHexColor': '8F40D4', 'ElectronConfiguration': '[Ar]4s1', 'Electronegativity': '0.82', 'AtomicRadius': '275', 'IonizationEnergy': '4.341', 'ElectronAffinity': '0.501', 'OxidationStates': '+1', 'StandardState': 'Solid', 'MeltingPoint': '336.53', 'BoilingPoint': '1032', 'Density': '0.89', 'GroupBlock': 'Alkali metal', 'YearDiscovered': '1807'}\n",
      "{'AtomicNumber': '20', 'Symbol': 'Ca', 'Name': 'Calcium', 'AtomicMass': '40.08', 'CPKHexColor': '3DFF00', 'ElectronConfiguration': '[Ar]4s2', 'Electronegativity': '1', 'AtomicRadius': '231', 'IonizationEnergy': '6.113', 'ElectronAffinity': '', 'OxidationStates': '+2', 'StandardState': 'Solid', 'MeltingPoint': '1115', 'BoilingPoint': '1757', 'Density': '1.54', 'GroupBlock': 'Alkaline earth metal', 'YearDiscovered': 'Ancient'}\n",
      "{'AtomicNumber': '21', 'Symbol': 'Sc', 'Name': 'Scandium', 'AtomicMass': '44.95591', 'CPKHexColor': 'E6E6E6', 'ElectronConfiguration': '[Ar]4s2 3d1', 'Electronegativity': '1.36', 'AtomicRadius': '211', 'IonizationEnergy': '6.561', 'ElectronAffinity': '0.188', 'OxidationStates': '+3', 'StandardState': 'Solid', 'MeltingPoint': '1814', 'BoilingPoint': '3109', 'Density': '2.99', 'GroupBlock': 'Transition metal', 'YearDiscovered': '1879'}\n",
      "{'AtomicNumber': '22', 'Symbol': 'Ti', 'Name': 'Titanium', 'AtomicMass': '47.867', 'CPKHexColor': 'BFC2C7', 'ElectronConfiguration': '[Ar]4s2 3d2', 'Electronegativity': '1.54', 'AtomicRadius': '187', 'IonizationEnergy': '6.828', 'ElectronAffinity': '0.079', 'OxidationStates': '+4, +3, +2', 'StandardState': 'Solid', 'MeltingPoint': '1941', 'BoilingPoint': '3560', 'Density': '4.5', 'GroupBlock': 'Transition metal', 'YearDiscovered': '1791'}\n",
      "{'AtomicNumber': '23', 'Symbol': 'V', 'Name': 'Vanadium', 'AtomicMass': '50.9415', 'CPKHexColor': 'A6A6AB', 'ElectronConfiguration': '[Ar]4s2 3d3', 'Electronegativity': '1.63', 'AtomicRadius': '179', 'IonizationEnergy': '6.746', 'ElectronAffinity': '0.525', 'OxidationStates': '+5, +4, +3, +2', 'StandardState': 'Solid', 'MeltingPoint': '2183', 'BoilingPoint': '3680', 'Density': '6.0', 'GroupBlock': 'Transition metal', 'YearDiscovered': '1801'}\n",
      "{'AtomicNumber': '24', 'Symbol': 'Cr', 'Name': 'Chromium', 'AtomicMass': '51.996', 'CPKHexColor': '8A99C7', 'ElectronConfiguration': '[Ar]3d5 4s1', 'Electronegativity': '1.66', 'AtomicRadius': '189', 'IonizationEnergy': '6.767', 'ElectronAffinity': '0.666', 'OxidationStates': '+6, +3, +2', 'StandardState': 'Solid', 'MeltingPoint': '2180', 'BoilingPoint': '2944', 'Density': '7.15', 'GroupBlock': 'Transition metal', 'YearDiscovered': '1797'}\n",
      "{'AtomicNumber': '25', 'Symbol': 'Mn', 'Name': 'Manganese', 'AtomicMass': '54.93804', 'CPKHexColor': '9C7AC7', 'ElectronConfiguration': '[Ar]4s2 3d5', 'Electronegativity': '1.55', 'AtomicRadius': '197', 'IonizationEnergy': '7.434', 'ElectronAffinity': '', 'OxidationStates': '+7, +4, +3, +2', 'StandardState': 'Solid', 'MeltingPoint': '1519', 'BoilingPoint': '2334', 'Density': '7.3', 'GroupBlock': 'Transition metal', 'YearDiscovered': '1774'}\n",
      "{'AtomicNumber': '26', 'Symbol': 'Fe', 'Name': 'Iron', 'AtomicMass': '55.84', 'CPKHexColor': 'E06633', 'ElectronConfiguration': '[Ar]4s2 3d6', 'Electronegativity': '1.83', 'AtomicRadius': '194', 'IonizationEnergy': '7.902', 'ElectronAffinity': '0.163', 'OxidationStates': '+3, +2', 'StandardState': 'Solid', 'MeltingPoint': '1811', 'BoilingPoint': '3134', 'Density': '7.874', 'GroupBlock': 'Transition metal', 'YearDiscovered': 'Ancient'}\n",
      "{'AtomicNumber': '27', 'Symbol': 'Co', 'Name': 'Cobalt', 'AtomicMass': '58.93319', 'CPKHexColor': 'F090A0', 'ElectronConfiguration': '[Ar]4s2 3d7', 'Electronegativity': '1.88', 'AtomicRadius': '192', 'IonizationEnergy': '7.881', 'ElectronAffinity': '0.661', 'OxidationStates': '+3, +2', 'StandardState': 'Solid', 'MeltingPoint': '1768', 'BoilingPoint': '3200', 'Density': '8.86', 'GroupBlock': 'Transition metal', 'YearDiscovered': '1735'}\n",
      "{'AtomicNumber': '28', 'Symbol': 'Ni', 'Name': 'Nickel', 'AtomicMass': '58.693', 'CPKHexColor': '50D050', 'ElectronConfiguration': '[Ar]4s2 3d8', 'Electronegativity': '1.91', 'AtomicRadius': '163', 'IonizationEnergy': '7.640', 'ElectronAffinity': '1.156', 'OxidationStates': '+3, +2', 'StandardState': 'Solid', 'MeltingPoint': '1728', 'BoilingPoint': '3186', 'Density': '8.912', 'GroupBlock': 'Transition metal', 'YearDiscovered': '1751'}\n",
      "{'AtomicNumber': '29', 'Symbol': 'Cu', 'Name': 'Copper', 'AtomicMass': '63.55', 'CPKHexColor': 'C88033', 'ElectronConfiguration': '[Ar]4s1 3d10', 'Electronegativity': '1.9', 'AtomicRadius': '140', 'IonizationEnergy': '7.726', 'ElectronAffinity': '1.228', 'OxidationStates': '+2, +1', 'StandardState': 'Solid', 'MeltingPoint': '1357.77', 'BoilingPoint': '2835', 'Density': '8.933', 'GroupBlock': 'Transition metal', 'YearDiscovered': 'Ancient'}\n",
      "{'AtomicNumber': '30', 'Symbol': 'Zn', 'Name': 'Zinc', 'AtomicMass': '65.4', 'CPKHexColor': '7D80B0', 'ElectronConfiguration': '[Ar]4s2 3d10', 'Electronegativity': '1.65', 'AtomicRadius': '139', 'IonizationEnergy': '9.394', 'ElectronAffinity': '', 'OxidationStates': '+2', 'StandardState': 'Solid', 'MeltingPoint': '692.68', 'BoilingPoint': '1180', 'Density': '7.134', 'GroupBlock': 'Transition metal', 'YearDiscovered': '1746'}\n",
      "{'AtomicNumber': '31', 'Symbol': 'Ga', 'Name': 'Gallium', 'AtomicMass': '69.723', 'CPKHexColor': 'C28F8F', 'ElectronConfiguration': '[Ar]4s2 3d10 4p1', 'Electronegativity': '1.81', 'AtomicRadius': '187', 'IonizationEnergy': '5.999', 'ElectronAffinity': '0.3', 'OxidationStates': '+3', 'StandardState': 'Solid', 'MeltingPoint': '302.91', 'BoilingPoint': '2477', 'Density': '5.91', 'GroupBlock': 'Post-transition metal', 'YearDiscovered': '1875'}\n",
      "{'AtomicNumber': '32', 'Symbol': 'Ge', 'Name': 'Germanium', 'AtomicMass': '72.63', 'CPKHexColor': '668F8F', 'ElectronConfiguration': '[Ar]4s2 3d10 4p2', 'Electronegativity': '2.01', 'AtomicRadius': '211', 'IonizationEnergy': '7.900', 'ElectronAffinity': '1.35', 'OxidationStates': '+4, +2', 'StandardState': 'Solid', 'MeltingPoint': '1211.4', 'BoilingPoint': '3106', 'Density': '5.323', 'GroupBlock': 'Metalloid', 'YearDiscovered': '1886'}\n",
      "{'AtomicNumber': '33', 'Symbol': 'As', 'Name': 'Arsenic', 'AtomicMass': '74.92159', 'CPKHexColor': 'BD80E3', 'ElectronConfiguration': '[Ar]4s2 3d10 4p3', 'Electronegativity': '2.18', 'AtomicRadius': '185', 'IonizationEnergy': '9.815', 'ElectronAffinity': '0.81', 'OxidationStates': '+5, +3, -3', 'StandardState': 'Solid', 'MeltingPoint': '1090', 'BoilingPoint': '887', 'Density': '5.776', 'GroupBlock': 'Metalloid', 'YearDiscovered': 'Ancient'}\n",
      "{'AtomicNumber': '34', 'Symbol': 'Se', 'Name': 'Selenium', 'AtomicMass': '78.97', 'CPKHexColor': 'FFA100', 'ElectronConfiguration': '[Ar]4s2 3d10 4p4', 'Electronegativity': '2.55', 'AtomicRadius': '190', 'IonizationEnergy': '9.752', 'ElectronAffinity': '2.021', 'OxidationStates': '+6, +4, -2', 'StandardState': 'Solid', 'MeltingPoint': '493.65', 'BoilingPoint': '958', 'Density': '4.809', 'GroupBlock': 'Nonmetal', 'YearDiscovered': '1817'}\n",
      "{'AtomicNumber': '35', 'Symbol': 'Br', 'Name': 'Bromine', 'AtomicMass': '79.90', 'CPKHexColor': 'A62929', 'ElectronConfiguration': '[Ar]4s2 3d10 4p5', 'Electronegativity': '2.96', 'AtomicRadius': '183', 'IonizationEnergy': '11.814', 'ElectronAffinity': '3.365', 'OxidationStates': '+5, +1, -1', 'StandardState': 'Liquid', 'MeltingPoint': '265.95', 'BoilingPoint': '331.95', 'Density': '3.11', 'GroupBlock': 'Halogen', 'YearDiscovered': '1826'}\n",
      "{'AtomicNumber': '36', 'Symbol': 'Kr', 'Name': 'Krypton', 'AtomicMass': '83.80', 'CPKHexColor': '5CB8D1', 'ElectronConfiguration': '[Ar]4s2 3d10 4p6', 'Electronegativity': '3', 'AtomicRadius': '202', 'IonizationEnergy': '14.000', 'ElectronAffinity': '', 'OxidationStates': '0', 'StandardState': 'Gas', 'MeltingPoint': '115.79', 'BoilingPoint': '119.93', 'Density': '0.003733', 'GroupBlock': 'Noble gas', 'YearDiscovered': '1898'}\n",
      "{'AtomicNumber': '37', 'Symbol': 'Rb', 'Name': 'Rubidium', 'AtomicMass': '85.468', 'CPKHexColor': '702EB0', 'ElectronConfiguration': '[Kr]5s1', 'Electronegativity': '0.82', 'AtomicRadius': '303', 'IonizationEnergy': '4.177', 'ElectronAffinity': '0.468', 'OxidationStates': '+1', 'StandardState': 'Solid', 'MeltingPoint': '312.46', 'BoilingPoint': '961', 'Density': '1.53', 'GroupBlock': 'Alkali metal', 'YearDiscovered': '1861'}\n",
      "{'AtomicNumber': '38', 'Symbol': 'Sr', 'Name': 'Strontium', 'AtomicMass': '87.62', 'CPKHexColor': '00FF00', 'ElectronConfiguration': '[Kr]5s2', 'Electronegativity': '0.95', 'AtomicRadius': '249', 'IonizationEnergy': '5.695', 'ElectronAffinity': '', 'OxidationStates': '+2', 'StandardState': 'Solid', 'MeltingPoint': '1050', 'BoilingPoint': '1655', 'Density': '2.64', 'GroupBlock': 'Alkaline earth metal', 'YearDiscovered': '1790'}\n",
      "{'AtomicNumber': '39', 'Symbol': 'Y', 'Name': 'Yttrium', 'AtomicMass': '88.90584', 'CPKHexColor': '94FFFF', 'ElectronConfiguration': '[Kr]5s2 4d1', 'Electronegativity': '1.22', 'AtomicRadius': '219', 'IonizationEnergy': '6.217', 'ElectronAffinity': '0.307', 'OxidationStates': '+3', 'StandardState': 'Solid', 'MeltingPoint': '1795', 'BoilingPoint': '3618', 'Density': '4.47', 'GroupBlock': 'Transition metal', 'YearDiscovered': '1794'}\n",
      "{'AtomicNumber': '40', 'Symbol': 'Zr', 'Name': 'Zirconium', 'AtomicMass': '91.22', 'CPKHexColor': '94E0E0', 'ElectronConfiguration': '[Kr]5s2 4d2', 'Electronegativity': '1.33', 'AtomicRadius': '186', 'IonizationEnergy': '6.634', 'ElectronAffinity': '0.426', 'OxidationStates': '+4', 'StandardState': 'Solid', 'MeltingPoint': '2128', 'BoilingPoint': '4682', 'Density': '6.52', 'GroupBlock': 'Transition metal', 'YearDiscovered': '1789'}\n",
      "{'AtomicNumber': '41', 'Symbol': 'Nb', 'Name': 'Niobium', 'AtomicMass': '92.90637', 'CPKHexColor': '73C2C9', 'ElectronConfiguration': '[Kr]5s1 4d4', 'Electronegativity': '1.6', 'AtomicRadius': '207', 'IonizationEnergy': '6.759', 'ElectronAffinity': '0.893', 'OxidationStates': '+5, +3', 'StandardState': 'Solid', 'MeltingPoint': '2750', 'BoilingPoint': '5017', 'Density': '8.57', 'GroupBlock': 'Transition metal', 'YearDiscovered': '1801'}\n",
      "{'AtomicNumber': '42', 'Symbol': 'Mo', 'Name': 'Molybdenum', 'AtomicMass': '95.95', 'CPKHexColor': '54B5B5', 'ElectronConfiguration': '[Kr]5s1 4d5', 'Electronegativity': '2.16', 'AtomicRadius': '209', 'IonizationEnergy': '7.092', 'ElectronAffinity': '0.746', 'OxidationStates': '+6', 'StandardState': 'Solid', 'MeltingPoint': '2896', 'BoilingPoint': '4912', 'Density': '10.2', 'GroupBlock': 'Transition metal', 'YearDiscovered': '1778'}\n",
      "{'AtomicNumber': '43', 'Symbol': 'Tc', 'Name': 'Technetium', 'AtomicMass': '96.90636', 'CPKHexColor': '3B9E9E', 'ElectronConfiguration': '[Kr]5s2 4d5', 'Electronegativity': '1.9', 'AtomicRadius': '209', 'IonizationEnergy': '7.28', 'ElectronAffinity': '0.55', 'OxidationStates': '+7, +6, +4', 'StandardState': 'Solid', 'MeltingPoint': '2430', 'BoilingPoint': '4538', 'Density': '11', 'GroupBlock': 'Transition metal', 'YearDiscovered': '1937'}\n",
      "{'AtomicNumber': '44', 'Symbol': 'Ru', 'Name': 'Ruthenium', 'AtomicMass': '101.1', 'CPKHexColor': '248F8F', 'ElectronConfiguration': '[Kr]5s1 4d7', 'Electronegativity': '2.2', 'AtomicRadius': '207', 'IonizationEnergy': '7.361', 'ElectronAffinity': '1.05', 'OxidationStates': '+3', 'StandardState': 'Solid', 'MeltingPoint': '2607', 'BoilingPoint': '4423', 'Density': '12.1', 'GroupBlock': 'Transition metal', 'YearDiscovered': '1827'}\n",
      "{'AtomicNumber': '45', 'Symbol': 'Rh', 'Name': 'Rhodium', 'AtomicMass': '102.9055', 'CPKHexColor': '0A7D8C', 'ElectronConfiguration': '[Kr]5s1 4d8', 'Electronegativity': '2.28', 'AtomicRadius': '195', 'IonizationEnergy': '7.459', 'ElectronAffinity': '1.137', 'OxidationStates': '+3', 'StandardState': 'Solid', 'MeltingPoint': '2237', 'BoilingPoint': '3968', 'Density': '12.4', 'GroupBlock': 'Transition metal', 'YearDiscovered': '1803'}\n",
      "{'AtomicNumber': '46', 'Symbol': 'Pd', 'Name': 'Palladium', 'AtomicMass': '106.42', 'CPKHexColor': '6985', 'ElectronConfiguration': '[Kr]4d10', 'Electronegativity': '2.2', 'AtomicRadius': '202', 'IonizationEnergy': '8.337', 'ElectronAffinity': '0.557', 'OxidationStates': '+3, +2', 'StandardState': 'Solid', 'MeltingPoint': '1828.05', 'BoilingPoint': '3236', 'Density': '12.0', 'GroupBlock': 'Transition metal', 'YearDiscovered': '1803'}\n",
      "{'AtomicNumber': '47', 'Symbol': 'Ag', 'Name': 'Silver', 'AtomicMass': '107.868', 'CPKHexColor': 'C0C0C0', 'ElectronConfiguration': '[Kr]5s1 4d10', 'Electronegativity': '1.93', 'AtomicRadius': '172', 'IonizationEnergy': '7.576', 'ElectronAffinity': '1.302', 'OxidationStates': '+1', 'StandardState': 'Solid', 'MeltingPoint': '1234.93', 'BoilingPoint': '2435', 'Density': '10.501', 'GroupBlock': 'Transition metal', 'YearDiscovered': 'Ancient'}\n",
      "{'AtomicNumber': '48', 'Symbol': 'Cd', 'Name': 'Cadmium', 'AtomicMass': '112.41', 'CPKHexColor': 'FFD98F', 'ElectronConfiguration': '[Kr]5s2 4d10', 'Electronegativity': '1.69', 'AtomicRadius': '158', 'IonizationEnergy': '8.994', 'ElectronAffinity': '', 'OxidationStates': '+2', 'StandardState': 'Solid', 'MeltingPoint': '594.22', 'BoilingPoint': '1040', 'Density': '8.69', 'GroupBlock': 'Transition metal', 'YearDiscovered': '1817'}\n",
      "{'AtomicNumber': '49', 'Symbol': 'In', 'Name': 'Indium', 'AtomicMass': '114.818', 'CPKHexColor': 'A67573', 'ElectronConfiguration': '[Kr]5s2 4d10 5p1', 'Electronegativity': '1.78', 'AtomicRadius': '193', 'IonizationEnergy': '5.786', 'ElectronAffinity': '0.3', 'OxidationStates': '+3', 'StandardState': 'Solid', 'MeltingPoint': '429.75', 'BoilingPoint': '2345', 'Density': '7.31', 'GroupBlock': 'Post-transition metal', 'YearDiscovered': '1863'}\n",
      "{'AtomicNumber': '50', 'Symbol': 'Sn', 'Name': 'Tin', 'AtomicMass': '118.71', 'CPKHexColor': '668080', 'ElectronConfiguration': '[Kr]5s2 4d10 5p2', 'Electronegativity': '1.96', 'AtomicRadius': '217', 'IonizationEnergy': '7.344', 'ElectronAffinity': '1.2', 'OxidationStates': '+4, +2', 'StandardState': 'Solid', 'MeltingPoint': '505.08', 'BoilingPoint': '2875', 'Density': '7.287', 'GroupBlock': 'Post-transition metal', 'YearDiscovered': 'Ancient'}\n",
      "{'AtomicNumber': '51', 'Symbol': 'Sb', 'Name': 'Antimony', 'AtomicMass': '121.760', 'CPKHexColor': '9E63B5', 'ElectronConfiguration': '[Kr]5s2 4d10 5p3', 'Electronegativity': '2.05', 'AtomicRadius': '206', 'IonizationEnergy': '8.64', 'ElectronAffinity': '1.07', 'OxidationStates': '+5, +3, -3', 'StandardState': 'Solid', 'MeltingPoint': '903.78', 'BoilingPoint': '1860', 'Density': '6.685', 'GroupBlock': 'Metalloid', 'YearDiscovered': 'Ancient'}\n",
      "{'AtomicNumber': '52', 'Symbol': 'Te', 'Name': 'Tellurium', 'AtomicMass': '127.6', 'CPKHexColor': 'D47A00', 'ElectronConfiguration': '[Kr]5s2 4d10 5p4', 'Electronegativity': '2.1', 'AtomicRadius': '206', 'IonizationEnergy': '9.010', 'ElectronAffinity': '1.971', 'OxidationStates': '+6, +4, -2', 'StandardState': 'Solid', 'MeltingPoint': '722.66', 'BoilingPoint': '1261', 'Density': '6.232', 'GroupBlock': 'Metalloid', 'YearDiscovered': '1782'}\n",
      "{'AtomicNumber': '53', 'Symbol': 'I', 'Name': 'Iodine', 'AtomicMass': '126.9045', 'CPKHexColor': '940094', 'ElectronConfiguration': '[Kr]5s2 4d10 5p5', 'Electronegativity': '2.66', 'AtomicRadius': '198', 'IonizationEnergy': '10.451', 'ElectronAffinity': '3.059', 'OxidationStates': '+7, +5, +1, -1', 'StandardState': 'Solid', 'MeltingPoint': '386.85', 'BoilingPoint': '457.55', 'Density': '4.93', 'GroupBlock': 'Halogen', 'YearDiscovered': '1811'}\n",
      "{'AtomicNumber': '54', 'Symbol': 'Xe', 'Name': 'Xenon', 'AtomicMass': '131.29', 'CPKHexColor': '429EB0', 'ElectronConfiguration': '[Kr]5s2 4d10 5p6', 'Electronegativity': '2.6', 'AtomicRadius': '216', 'IonizationEnergy': '12.130', 'ElectronAffinity': '', 'OxidationStates': '0', 'StandardState': 'Gas', 'MeltingPoint': '161.36', 'BoilingPoint': '165.03', 'Density': '0.005887', 'GroupBlock': 'Noble gas', 'YearDiscovered': '1898'}\n",
      "{'AtomicNumber': '55', 'Symbol': 'Cs', 'Name': 'Cesium', 'AtomicMass': '132.9054520', 'CPKHexColor': '57178F', 'ElectronConfiguration': '[Xe]6s1', 'Electronegativity': '0.79', 'AtomicRadius': '343', 'IonizationEnergy': '3.894', 'ElectronAffinity': '0.472', 'OxidationStates': '+1', 'StandardState': 'Solid', 'MeltingPoint': '301.59', 'BoilingPoint': '944', 'Density': '1.93', 'GroupBlock': 'Alkali metal', 'YearDiscovered': '1860'}\n",
      "{'AtomicNumber': '56', 'Symbol': 'Ba', 'Name': 'Barium', 'AtomicMass': '137.33', 'CPKHexColor': '00C900', 'ElectronConfiguration': '[Xe]6s2', 'Electronegativity': '0.89', 'AtomicRadius': '268', 'IonizationEnergy': '5.212', 'ElectronAffinity': '', 'OxidationStates': '+2', 'StandardState': 'Solid', 'MeltingPoint': '1000', 'BoilingPoint': '2170', 'Density': '3.62', 'GroupBlock': 'Alkaline earth metal', 'YearDiscovered': '1808'}\n",
      "{'AtomicNumber': '57', 'Symbol': 'La', 'Name': 'Lanthanum', 'AtomicMass': '138.9055', 'CPKHexColor': '70D4FF', 'ElectronConfiguration': '[Xe]6s2 5d1', 'Electronegativity': '1.1', 'AtomicRadius': '240', 'IonizationEnergy': '5.577', 'ElectronAffinity': '0.5', 'OxidationStates': '+3', 'StandardState': 'Solid', 'MeltingPoint': '1191', 'BoilingPoint': '3737', 'Density': '6.15', 'GroupBlock': 'Lanthanide', 'YearDiscovered': '1839'}\n",
      "{'AtomicNumber': '58', 'Symbol': 'Ce', 'Name': 'Cerium', 'AtomicMass': '140.116', 'CPKHexColor': 'FFFFC7', 'ElectronConfiguration': '[Xe]6s2 4f1 5d1', 'Electronegativity': '1.12', 'AtomicRadius': '235', 'IonizationEnergy': '5.539', 'ElectronAffinity': '0.5', 'OxidationStates': '+4, +3', 'StandardState': 'Solid', 'MeltingPoint': '1071', 'BoilingPoint': '3697', 'Density': '6.770', 'GroupBlock': 'Lanthanide', 'YearDiscovered': '1803'}\n",
      "{'AtomicNumber': '59', 'Symbol': 'Pr', 'Name': 'Praseodymium', 'AtomicMass': '140.90766', 'CPKHexColor': 'D9FFC7', 'ElectronConfiguration': '[Xe]6s2 4f3', 'Electronegativity': '1.13', 'AtomicRadius': '239', 'IonizationEnergy': '5.464', 'ElectronAffinity': '', 'OxidationStates': '+3', 'StandardState': 'Solid', 'MeltingPoint': '1204', 'BoilingPoint': '3793', 'Density': '6.77', 'GroupBlock': 'Lanthanide', 'YearDiscovered': '1885'}\n",
      "{'AtomicNumber': '60', 'Symbol': 'Nd', 'Name': 'Neodymium', 'AtomicMass': '144.24', 'CPKHexColor': 'C7FFC7', 'ElectronConfiguration': '[Xe]6s2 4f4', 'Electronegativity': '1.14', 'AtomicRadius': '229', 'IonizationEnergy': '5.525', 'ElectronAffinity': '', 'OxidationStates': '+3', 'StandardState': 'Solid', 'MeltingPoint': '1294', 'BoilingPoint': '3347', 'Density': '7.01', 'GroupBlock': 'Lanthanide', 'YearDiscovered': '1885'}\n",
      "{'AtomicNumber': '61', 'Symbol': 'Pm', 'Name': 'Promethium', 'AtomicMass': '144.91276', 'CPKHexColor': 'A3FFC7', 'ElectronConfiguration': '[Xe]6s2 4f5', 'Electronegativity': '', 'AtomicRadius': '236', 'IonizationEnergy': '5.55', 'ElectronAffinity': '', 'OxidationStates': '+3', 'StandardState': 'Solid', 'MeltingPoint': '1315', 'BoilingPoint': '3273', 'Density': '7.26', 'GroupBlock': 'Lanthanide', 'YearDiscovered': '1945'}\n",
      "{'AtomicNumber': '62', 'Symbol': 'Sm', 'Name': 'Samarium', 'AtomicMass': '150.4', 'CPKHexColor': '8FFFC7', 'ElectronConfiguration': '[Xe]6s2 4f6', 'Electronegativity': '1.17', 'AtomicRadius': '229', 'IonizationEnergy': '5.644', 'ElectronAffinity': '', 'OxidationStates': '+3, +2', 'StandardState': 'Solid', 'MeltingPoint': '1347', 'BoilingPoint': '2067', 'Density': '7.52', 'GroupBlock': 'Lanthanide', 'YearDiscovered': '1879'}\n",
      "{'AtomicNumber': '63', 'Symbol': 'Eu', 'Name': 'Europium', 'AtomicMass': '151.964', 'CPKHexColor': '61FFC7', 'ElectronConfiguration': '[Xe]6s2 4f7', 'Electronegativity': '', 'AtomicRadius': '233', 'IonizationEnergy': '5.670', 'ElectronAffinity': '', 'OxidationStates': '+3, +2', 'StandardState': 'Solid', 'MeltingPoint': '1095', 'BoilingPoint': '1802', 'Density': '5.24', 'GroupBlock': 'Lanthanide', 'YearDiscovered': '1901'}\n",
      "{'AtomicNumber': '64', 'Symbol': 'Gd', 'Name': 'Gadolinium', 'AtomicMass': '157.2', 'CPKHexColor': '45FFC7', 'ElectronConfiguration': '[Xe]6s2 4f7 5d1', 'Electronegativity': '1.2', 'AtomicRadius': '237', 'IonizationEnergy': '6.150', 'ElectronAffinity': '', 'OxidationStates': '+3', 'StandardState': 'Solid', 'MeltingPoint': '1586', 'BoilingPoint': '3546', 'Density': '7.90', 'GroupBlock': 'Lanthanide', 'YearDiscovered': '1880'}\n",
      "{'AtomicNumber': '65', 'Symbol': 'Tb', 'Name': 'Terbium', 'AtomicMass': '158.92535', 'CPKHexColor': '30FFC7', 'ElectronConfiguration': '[Xe]6s2 4f9', 'Electronegativity': '', 'AtomicRadius': '221', 'IonizationEnergy': '5.864', 'ElectronAffinity': '', 'OxidationStates': '+3', 'StandardState': 'Solid', 'MeltingPoint': '1629', 'BoilingPoint': '3503', 'Density': '8.23', 'GroupBlock': 'Lanthanide', 'YearDiscovered': '1843'}\n",
      "{'AtomicNumber': '66', 'Symbol': 'Dy', 'Name': 'Dysprosium', 'AtomicMass': '162.500', 'CPKHexColor': '1FFFC7', 'ElectronConfiguration': '[Xe]6s2 4f10', 'Electronegativity': '1.22', 'AtomicRadius': '229', 'IonizationEnergy': '5.939', 'ElectronAffinity': '', 'OxidationStates': '+3', 'StandardState': 'Solid', 'MeltingPoint': '1685', 'BoilingPoint': '2840', 'Density': '8.55', 'GroupBlock': 'Lanthanide', 'YearDiscovered': '1886'}\n",
      "{'AtomicNumber': '67', 'Symbol': 'Ho', 'Name': 'Holmium', 'AtomicMass': '164.93033', 'CPKHexColor': '00FF9C', 'ElectronConfiguration': '[Xe]6s2 4f11', 'Electronegativity': '1.23', 'AtomicRadius': '216', 'IonizationEnergy': '6.022', 'ElectronAffinity': '', 'OxidationStates': '+3', 'StandardState': 'Solid', 'MeltingPoint': '1747', 'BoilingPoint': '2973', 'Density': '8.80', 'GroupBlock': 'Lanthanide', 'YearDiscovered': '1878'}\n",
      "{'AtomicNumber': '68', 'Symbol': 'Er', 'Name': 'Erbium', 'AtomicMass': '167.26', 'CPKHexColor': '', 'ElectronConfiguration': '[Xe]6s2 4f12', 'Electronegativity': '1.24', 'AtomicRadius': '235', 'IonizationEnergy': '6.108', 'ElectronAffinity': '', 'OxidationStates': '+3', 'StandardState': 'Solid', 'MeltingPoint': '1802', 'BoilingPoint': '3141', 'Density': '9.07', 'GroupBlock': 'Lanthanide', 'YearDiscovered': '1843'}\n",
      "{'AtomicNumber': '69', 'Symbol': 'Tm', 'Name': 'Thulium', 'AtomicMass': '168.93422', 'CPKHexColor': '00D452', 'ElectronConfiguration': '[Xe]6s2 4f13', 'Electronegativity': '1.25', 'AtomicRadius': '227', 'IonizationEnergy': '6.184', 'ElectronAffinity': '', 'OxidationStates': '+3', 'StandardState': 'Solid', 'MeltingPoint': '1818', 'BoilingPoint': '2223', 'Density': '9.32', 'GroupBlock': 'Lanthanide', 'YearDiscovered': '1879'}\n",
      "{'AtomicNumber': '70', 'Symbol': 'Yb', 'Name': 'Ytterbium', 'AtomicMass': '173.05', 'CPKHexColor': '00BF38', 'ElectronConfiguration': '[Xe]6s2 4f14', 'Electronegativity': '', 'AtomicRadius': '242', 'IonizationEnergy': '6.254', 'ElectronAffinity': '', 'OxidationStates': '+3, +2', 'StandardState': 'Solid', 'MeltingPoint': '1092', 'BoilingPoint': '1469', 'Density': '6.90', 'GroupBlock': 'Lanthanide', 'YearDiscovered': '1878'}\n",
      "{'AtomicNumber': '71', 'Symbol': 'Lu', 'Name': 'Lutetium', 'AtomicMass': '174.9668', 'CPKHexColor': '00AB24', 'ElectronConfiguration': '[Xe]6s2 4f14 5d1', 'Electronegativity': '1.27', 'AtomicRadius': '221', 'IonizationEnergy': '5.426', 'ElectronAffinity': '', 'OxidationStates': '+3', 'StandardState': 'Solid', 'MeltingPoint': '1936', 'BoilingPoint': '3675', 'Density': '9.84', 'GroupBlock': 'Lanthanide', 'YearDiscovered': '1907'}\n",
      "{'AtomicNumber': '72', 'Symbol': 'Hf', 'Name': 'Hafnium', 'AtomicMass': '178.49', 'CPKHexColor': '4DC2FF', 'ElectronConfiguration': '[Xe]6s2 4f14 5d2', 'Electronegativity': '1.3', 'AtomicRadius': '212', 'IonizationEnergy': '6.825', 'ElectronAffinity': '', 'OxidationStates': '+4', 'StandardState': 'Solid', 'MeltingPoint': '2506', 'BoilingPoint': '4876', 'Density': '13.3', 'GroupBlock': 'Transition metal', 'YearDiscovered': '1923'}\n",
      "{'AtomicNumber': '73', 'Symbol': 'Ta', 'Name': 'Tantalum', 'AtomicMass': '180.9479', 'CPKHexColor': '4DA6FF', 'ElectronConfiguration': '[Xe]6s2 4f14 5d3', 'Electronegativity': '1.5', 'AtomicRadius': '217', 'IonizationEnergy': '7.89', 'ElectronAffinity': '0.322', 'OxidationStates': '+5', 'StandardState': 'Solid', 'MeltingPoint': '3290', 'BoilingPoint': '5731', 'Density': '16.4', 'GroupBlock': 'Transition metal', 'YearDiscovered': '1802'}\n",
      "{'AtomicNumber': '74', 'Symbol': 'W', 'Name': 'Tungsten', 'AtomicMass': '183.84', 'CPKHexColor': '2194D6', 'ElectronConfiguration': '[Xe]6s2 4f14 5d4', 'Electronegativity': '2.36', 'AtomicRadius': '210', 'IonizationEnergy': '7.98', 'ElectronAffinity': '0.815', 'OxidationStates': '+6', 'StandardState': 'Solid', 'MeltingPoint': '3695', 'BoilingPoint': '5828', 'Density': '19.3', 'GroupBlock': 'Transition metal', 'YearDiscovered': '1783'}\n",
      "{'AtomicNumber': '75', 'Symbol': 'Re', 'Name': 'Rhenium', 'AtomicMass': '186.207', 'CPKHexColor': '267DAB', 'ElectronConfiguration': '[Xe]6s2 4f14 5d5', 'Electronegativity': '1.9', 'AtomicRadius': '217', 'IonizationEnergy': '7.88', 'ElectronAffinity': '0.15', 'OxidationStates': '+7, +6, +4', 'StandardState': 'Solid', 'MeltingPoint': '3459', 'BoilingPoint': '5869', 'Density': '20.8', 'GroupBlock': 'Transition metal', 'YearDiscovered': '1925'}\n",
      "{'AtomicNumber': '76', 'Symbol': 'Os', 'Name': 'Osmium', 'AtomicMass': '190.2', 'CPKHexColor': '266696', 'ElectronConfiguration': '[Xe]6s2 4f14 5d6', 'Electronegativity': '2.2', 'AtomicRadius': '216', 'IonizationEnergy': '8.7', 'ElectronAffinity': '1.1', 'OxidationStates': '+4, +3', 'StandardState': 'Solid', 'MeltingPoint': '3306', 'BoilingPoint': '5285', 'Density': '22.57', 'GroupBlock': 'Transition metal', 'YearDiscovered': '1803'}\n",
      "{'AtomicNumber': '77', 'Symbol': 'Ir', 'Name': 'Iridium', 'AtomicMass': '192.22', 'CPKHexColor': '175487', 'ElectronConfiguration': '[Xe]6s2 4f14 5d7', 'Electronegativity': '2.2', 'AtomicRadius': '202', 'IonizationEnergy': '9.1', 'ElectronAffinity': '1.565', 'OxidationStates': '+4, +3', 'StandardState': 'Solid', 'MeltingPoint': '2719', 'BoilingPoint': '4701', 'Density': '22.42', 'GroupBlock': 'Transition metal', 'YearDiscovered': '1803'}\n",
      "{'AtomicNumber': '78', 'Symbol': 'Pt', 'Name': 'Platinum', 'AtomicMass': '195.08', 'CPKHexColor': 'D0D0E0', 'ElectronConfiguration': '[Xe]6s1 4f14 5d9', 'Electronegativity': '2.28', 'AtomicRadius': '209', 'IonizationEnergy': '9', 'ElectronAffinity': '2.128', 'OxidationStates': '+4, +2', 'StandardState': 'Solid', 'MeltingPoint': '2041.55', 'BoilingPoint': '4098', 'Density': '21.46', 'GroupBlock': 'Transition metal', 'YearDiscovered': '1735'}\n",
      "{'AtomicNumber': '79', 'Symbol': 'Au', 'Name': 'Gold', 'AtomicMass': '196.96657', 'CPKHexColor': 'FFD123', 'ElectronConfiguration': '[Xe]6s1 4f14 5d10', 'Electronegativity': '2.54', 'AtomicRadius': '166', 'IonizationEnergy': '9.226', 'ElectronAffinity': '2.309', 'OxidationStates': '+3, +1', 'StandardState': 'Solid', 'MeltingPoint': '1337.33', 'BoilingPoint': '3129', 'Density': '19.282', 'GroupBlock': 'Transition metal', 'YearDiscovered': 'Ancient'}\n",
      "{'AtomicNumber': '80', 'Symbol': 'Hg', 'Name': 'Mercury', 'AtomicMass': '200.59', 'CPKHexColor': 'B8B8D0', 'ElectronConfiguration': '[Xe]6s2 4f14 5d10', 'Electronegativity': '2', 'AtomicRadius': '209', 'IonizationEnergy': '10.438', 'ElectronAffinity': '', 'OxidationStates': '+2, +1', 'StandardState': 'Liquid', 'MeltingPoint': '234.32', 'BoilingPoint': '629.88', 'Density': '13.5336', 'GroupBlock': 'Transition metal', 'YearDiscovered': 'Ancient'}\n",
      "{'AtomicNumber': '81', 'Symbol': 'Tl', 'Name': 'Thallium', 'AtomicMass': '204.383', 'CPKHexColor': 'A6544D', 'ElectronConfiguration': '[Xe]6s2 4f14 5d10 6p1', 'Electronegativity': '1.62', 'AtomicRadius': '196', 'IonizationEnergy': '6.108', 'ElectronAffinity': '0.2', 'OxidationStates': '+3, +1', 'StandardState': 'Solid', 'MeltingPoint': '577', 'BoilingPoint': '1746', 'Density': '11.8', 'GroupBlock': 'Post-transition metal', 'YearDiscovered': '1861'}\n",
      "{'AtomicNumber': '82', 'Symbol': 'Pb', 'Name': 'Lead', 'AtomicMass': '207', 'CPKHexColor': '575961', 'ElectronConfiguration': '[Xe]6s2 4f14 5d10 6p2', 'Electronegativity': '2.33', 'AtomicRadius': '202', 'IonizationEnergy': '7.417', 'ElectronAffinity': '0.36', 'OxidationStates': '+4, +2', 'StandardState': 'Solid', 'MeltingPoint': '600.61', 'BoilingPoint': '2022', 'Density': '11.342', 'GroupBlock': 'Post-transition metal', 'YearDiscovered': 'Ancient'}\n",
      "{'AtomicNumber': '83', 'Symbol': 'Bi', 'Name': 'Bismuth', 'AtomicMass': '208.98040', 'CPKHexColor': '9E4FB5', 'ElectronConfiguration': '[Xe]6s2 4f14 5d10 6p3', 'Electronegativity': '2.02', 'AtomicRadius': '207', 'IonizationEnergy': '7.289', 'ElectronAffinity': '0.946', 'OxidationStates': '+5, +3', 'StandardState': 'Solid', 'MeltingPoint': '544.55', 'BoilingPoint': '1837', 'Density': '9.807', 'GroupBlock': 'Post-transition metal', 'YearDiscovered': '1753'}\n",
      "{'AtomicNumber': '84', 'Symbol': 'Po', 'Name': 'Polonium', 'AtomicMass': '208.98243', 'CPKHexColor': 'AB5C00', 'ElectronConfiguration': '[Xe]6s2 4f14 5d10 6p4', 'Electronegativity': '2', 'AtomicRadius': '197', 'IonizationEnergy': '8.417', 'ElectronAffinity': '1.9', 'OxidationStates': '+4, +2', 'StandardState': 'Solid', 'MeltingPoint': '527', 'BoilingPoint': '1235', 'Density': '9.32', 'GroupBlock': 'Metalloid', 'YearDiscovered': '1898'}\n",
      "{'AtomicNumber': '85', 'Symbol': 'At', 'Name': 'Astatine', 'AtomicMass': '209.98715', 'CPKHexColor': '754F45', 'ElectronConfiguration': '[Xe]6s2 4f14 5d10 6p5', 'Electronegativity': '2.2', 'AtomicRadius': '202', 'IonizationEnergy': '9.5', 'ElectronAffinity': '2.8', 'OxidationStates': '7, 5, 3, 1, -1', 'StandardState': 'Solid', 'MeltingPoint': '575', 'BoilingPoint': '', 'Density': '7', 'GroupBlock': 'Halogen', 'YearDiscovered': '1940'}\n",
      "{'AtomicNumber': '86', 'Symbol': 'Rn', 'Name': 'Radon', 'AtomicMass': '222.01758', 'CPKHexColor': '428296', 'ElectronConfiguration': '[Xe]6s2 4f14 5d10 6p6', 'Electronegativity': '', 'AtomicRadius': '220', 'IonizationEnergy': '10.745', 'ElectronAffinity': '', 'OxidationStates': '0', 'StandardState': 'Gas', 'MeltingPoint': '202', 'BoilingPoint': '211.45', 'Density': '0.00973', 'GroupBlock': 'Noble gas', 'YearDiscovered': '1900'}\n",
      "{'AtomicNumber': '87', 'Symbol': 'Fr', 'Name': 'Francium', 'AtomicMass': '223.01973', 'CPKHexColor': '420066', 'ElectronConfiguration': '[Rn]7s1', 'Electronegativity': '0.7', 'AtomicRadius': '348', 'IonizationEnergy': '3.9', 'ElectronAffinity': '0.47', 'OxidationStates': '+1', 'StandardState': 'Solid', 'MeltingPoint': '300', 'BoilingPoint': '', 'Density': '', 'GroupBlock': 'Alkali metal', 'YearDiscovered': '1939'}\n",
      "{'AtomicNumber': '88', 'Symbol': 'Ra', 'Name': 'Radium', 'AtomicMass': '226.02541', 'CPKHexColor': '007D00', 'ElectronConfiguration': '[Rn]7s2', 'Electronegativity': '0.9', 'AtomicRadius': '283', 'IonizationEnergy': '5.279', 'ElectronAffinity': '', 'OxidationStates': '+2', 'StandardState': 'Solid', 'MeltingPoint': '973', 'BoilingPoint': '1413', 'Density': '5', 'GroupBlock': 'Alkaline earth metal', 'YearDiscovered': '1898'}\n",
      "{'AtomicNumber': '89', 'Symbol': 'Ac', 'Name': 'Actinium', 'AtomicMass': '227.02775', 'CPKHexColor': '70ABFA', 'ElectronConfiguration': '[Rn]7s2 6d1', 'Electronegativity': '1.1', 'AtomicRadius': '260', 'IonizationEnergy': '5.17', 'ElectronAffinity': '', 'OxidationStates': '+3', 'StandardState': 'Solid', 'MeltingPoint': '1324', 'BoilingPoint': '3471', 'Density': '10.07', 'GroupBlock': 'Actinide', 'YearDiscovered': '1899'}\n",
      "{'AtomicNumber': '90', 'Symbol': 'Th', 'Name': 'Thorium', 'AtomicMass': '232.038', 'CPKHexColor': '00BAFF', 'ElectronConfiguration': '[Rn]7s2 6d2', 'Electronegativity': '1.3', 'AtomicRadius': '237', 'IonizationEnergy': '6.08', 'ElectronAffinity': '', 'OxidationStates': '+4', 'StandardState': 'Solid', 'MeltingPoint': '2023', 'BoilingPoint': '5061', 'Density': '11.72', 'GroupBlock': 'Actinide', 'YearDiscovered': '1828'}\n",
      "{'AtomicNumber': '91', 'Symbol': 'Pa', 'Name': 'Protactinium', 'AtomicMass': '231.03588', 'CPKHexColor': '00A1FF', 'ElectronConfiguration': '[Rn]7s2 5f2 6d1', 'Electronegativity': '1.5', 'AtomicRadius': '243', 'IonizationEnergy': '5.89', 'ElectronAffinity': '', 'OxidationStates': '+5, +4', 'StandardState': 'Solid', 'MeltingPoint': '1845', 'BoilingPoint': '', 'Density': '15.37', 'GroupBlock': 'Actinide', 'YearDiscovered': '1913'}\n",
      "{'AtomicNumber': '92', 'Symbol': 'U', 'Name': 'Uranium', 'AtomicMass': '238.0289', 'CPKHexColor': '008FFF', 'ElectronConfiguration': '[Rn]7s2 5f3 6d1', 'Electronegativity': '1.38', 'AtomicRadius': '240', 'IonizationEnergy': '6.194', 'ElectronAffinity': '', 'OxidationStates': '+6, +5, +4, +3', 'StandardState': 'Solid', 'MeltingPoint': '1408', 'BoilingPoint': '4404', 'Density': '18.95', 'GroupBlock': 'Actinide', 'YearDiscovered': '1789'}\n",
      "{'AtomicNumber': '93', 'Symbol': 'Np', 'Name': 'Neptunium', 'AtomicMass': '237.048172', 'CPKHexColor': '0080FF', 'ElectronConfiguration': '[Rn]7s2 5f4 6d1', 'Electronegativity': '1.36', 'AtomicRadius': '221', 'IonizationEnergy': '6.266', 'ElectronAffinity': '', 'OxidationStates': '+6, +5, +4, +3', 'StandardState': 'Solid', 'MeltingPoint': '917', 'BoilingPoint': '4175', 'Density': '20.25', 'GroupBlock': 'Actinide', 'YearDiscovered': '1940'}\n",
      "{'AtomicNumber': '94', 'Symbol': 'Pu', 'Name': 'Plutonium', 'AtomicMass': '244.06420', 'CPKHexColor': '006BFF', 'ElectronConfiguration': '[Rn]7s2 5f6', 'Electronegativity': '1.28', 'AtomicRadius': '243', 'IonizationEnergy': '6.06', 'ElectronAffinity': '', 'OxidationStates': '+6, +5, +4, +3', 'StandardState': 'Solid', 'MeltingPoint': '913', 'BoilingPoint': '3501', 'Density': '19.84', 'GroupBlock': 'Actinide', 'YearDiscovered': '1940'}\n",
      "{'AtomicNumber': '95', 'Symbol': 'Am', 'Name': 'Americium', 'AtomicMass': '243.061380', 'CPKHexColor': '545CF2', 'ElectronConfiguration': '[Rn]7s2 5f7', 'Electronegativity': '1.3', 'AtomicRadius': '244', 'IonizationEnergy': '5.993', 'ElectronAffinity': '', 'OxidationStates': '+6, +5, +4, +3', 'StandardState': 'Solid', 'MeltingPoint': '1449', 'BoilingPoint': '2284', 'Density': '13.69', 'GroupBlock': 'Actinide', 'YearDiscovered': '1944'}\n",
      "{'AtomicNumber': '96', 'Symbol': 'Cm', 'Name': 'Curium', 'AtomicMass': '247.07035', 'CPKHexColor': '785CE3', 'ElectronConfiguration': '[Rn]7s2 5f7 6d1', 'Electronegativity': '1.3', 'AtomicRadius': '245', 'IonizationEnergy': '6.02', 'ElectronAffinity': '', 'OxidationStates': '+3', 'StandardState': 'Solid', 'MeltingPoint': '1618', 'BoilingPoint': '3400', 'Density': '13.51', 'GroupBlock': 'Actinide', 'YearDiscovered': '1944'}\n",
      "{'AtomicNumber': '97', 'Symbol': 'Bk', 'Name': 'Berkelium', 'AtomicMass': '247.07031', 'CPKHexColor': '8A4FE3', 'ElectronConfiguration': '[Rn]7s2 5f9', 'Electronegativity': '1.3', 'AtomicRadius': '244', 'IonizationEnergy': '6.23', 'ElectronAffinity': '', 'OxidationStates': '+4, +3', 'StandardState': 'Solid', 'MeltingPoint': '1323', 'BoilingPoint': '', 'Density': '14', 'GroupBlock': 'Actinide', 'YearDiscovered': '1949'}\n",
      "{'AtomicNumber': '98', 'Symbol': 'Cf', 'Name': 'Californium', 'AtomicMass': '251.07959', 'CPKHexColor': 'A136D4', 'ElectronConfiguration': '[Rn]7s2 5f10', 'Electronegativity': '1.3', 'AtomicRadius': '245', 'IonizationEnergy': '6.30', 'ElectronAffinity': '', 'OxidationStates': '+3', 'StandardState': 'Solid', 'MeltingPoint': '1173', 'BoilingPoint': '', 'Density': '', 'GroupBlock': 'Actinide', 'YearDiscovered': '1950'}\n",
      "{'AtomicNumber': '99', 'Symbol': 'Es', 'Name': 'Einsteinium', 'AtomicMass': '252.0830', 'CPKHexColor': 'B31FD4', 'ElectronConfiguration': '[Rn]7s2 5f11', 'Electronegativity': '1.3', 'AtomicRadius': '245', 'IonizationEnergy': '6.42', 'ElectronAffinity': '', 'OxidationStates': '+3', 'StandardState': 'Solid', 'MeltingPoint': '1133', 'BoilingPoint': '', 'Density': '', 'GroupBlock': 'Actinide', 'YearDiscovered': '1952'}\n",
      "{'AtomicNumber': '100', 'Symbol': 'Fm', 'Name': 'Fermium', 'AtomicMass': '257.09511', 'CPKHexColor': 'B31FBA', 'ElectronConfiguration': '[Rn] 5f12 7s2', 'Electronegativity': '1.3', 'AtomicRadius': '', 'IonizationEnergy': '6.50', 'ElectronAffinity': '', 'OxidationStates': '+3', 'StandardState': 'Solid', 'MeltingPoint': '1800', 'BoilingPoint': '', 'Density': '', 'GroupBlock': 'Actinide', 'YearDiscovered': '1952'}\n",
      "{'AtomicNumber': '101', 'Symbol': 'Md', 'Name': 'Mendelevium', 'AtomicMass': '258.09843', 'CPKHexColor': 'B30DA6', 'ElectronConfiguration': '[Rn]7s2 5f13', 'Electronegativity': '1.3', 'AtomicRadius': '', 'IonizationEnergy': '6.58', 'ElectronAffinity': '', 'OxidationStates': '+3, +2', 'StandardState': 'Solid', 'MeltingPoint': '1100', 'BoilingPoint': '', 'Density': '', 'GroupBlock': 'Actinide', 'YearDiscovered': '1955'}\n",
      "{'AtomicNumber': '102', 'Symbol': 'No', 'Name': 'Nobelium', 'AtomicMass': '259.10100', 'CPKHexColor': 'BD0D87', 'ElectronConfiguration': '[Rn]7s2 5f14', 'Electronegativity': '1.3', 'AtomicRadius': '', 'IonizationEnergy': '6.65', 'ElectronAffinity': '', 'OxidationStates': '+3, +2', 'StandardState': 'Solid', 'MeltingPoint': '1100', 'BoilingPoint': '', 'Density': '', 'GroupBlock': 'Actinide', 'YearDiscovered': '1957'}\n",
      "{'AtomicNumber': '103', 'Symbol': 'Lr', 'Name': 'Lawrencium', 'AtomicMass': '266.120', 'CPKHexColor': 'C70066', 'ElectronConfiguration': '[Rn]7s2 5f14 6d1', 'Electronegativity': '1.3', 'AtomicRadius': '', 'IonizationEnergy': '', 'ElectronAffinity': '', 'OxidationStates': '+3', 'StandardState': 'Solid', 'MeltingPoint': '1900', 'BoilingPoint': '', 'Density': '', 'GroupBlock': 'Actinide', 'YearDiscovered': '1961'}\n",
      "{'AtomicNumber': '104', 'Symbol': 'Rf', 'Name': 'Rutherfordium', 'AtomicMass': '267.122', 'CPKHexColor': 'CC0059', 'ElectronConfiguration': '[Rn]7s2 5f14 6d2', 'Electronegativity': '', 'AtomicRadius': '', 'IonizationEnergy': '', 'ElectronAffinity': '', 'OxidationStates': '+4', 'StandardState': 'Solid', 'MeltingPoint': '', 'BoilingPoint': '', 'Density': '', 'GroupBlock': 'Transition metal', 'YearDiscovered': '1964'}\n",
      "{'AtomicNumber': '105', 'Symbol': 'Db', 'Name': 'Dubnium', 'AtomicMass': '268.126', 'CPKHexColor': 'D1004F', 'ElectronConfiguration': '[Rn]7s2 5f14 6d3', 'Electronegativity': '', 'AtomicRadius': '', 'IonizationEnergy': '', 'ElectronAffinity': '', 'OxidationStates': '5, 4, 3', 'StandardState': 'Solid', 'MeltingPoint': '', 'BoilingPoint': '', 'Density': '', 'GroupBlock': 'Transition metal', 'YearDiscovered': '1967'}\n",
      "{'AtomicNumber': '106', 'Symbol': 'Sg', 'Name': 'Seaborgium', 'AtomicMass': '269.128', 'CPKHexColor': 'D90045', 'ElectronConfiguration': '[Rn]7s2 5f14 6d4', 'Electronegativity': '', 'AtomicRadius': '', 'IonizationEnergy': '', 'ElectronAffinity': '', 'OxidationStates': '6, 5, 4, 3, 0', 'StandardState': 'Solid', 'MeltingPoint': '', 'BoilingPoint': '', 'Density': '', 'GroupBlock': 'Transition metal', 'YearDiscovered': '1974'}\n",
      "{'AtomicNumber': '107', 'Symbol': 'Bh', 'Name': 'Bohrium', 'AtomicMass': '270.133', 'CPKHexColor': 'E00038', 'ElectronConfiguration': '[Rn]7s2 5f14 6d5', 'Electronegativity': '', 'AtomicRadius': '', 'IonizationEnergy': '', 'ElectronAffinity': '', 'OxidationStates': '7, 5, 4, 3', 'StandardState': 'Solid', 'MeltingPoint': '', 'BoilingPoint': '', 'Density': '', 'GroupBlock': 'Transition metal', 'YearDiscovered': '1976'}\n",
      "{'AtomicNumber': '108', 'Symbol': 'Hs', 'Name': 'Hassium', 'AtomicMass': '269.1336', 'CPKHexColor': 'E6002E', 'ElectronConfiguration': '[Rn]7s2 5f14 6d6', 'Electronegativity': '', 'AtomicRadius': '', 'IonizationEnergy': '', 'ElectronAffinity': '', 'OxidationStates': '8, 6, 5, 4, 3, 2', 'StandardState': 'Solid', 'MeltingPoint': '', 'BoilingPoint': '', 'Density': '', 'GroupBlock': 'Transition metal', 'YearDiscovered': '1984'}\n",
      "{'AtomicNumber': '109', 'Symbol': 'Mt', 'Name': 'Meitnerium', 'AtomicMass': '277.154', 'CPKHexColor': 'EB0026', 'ElectronConfiguration': '[Rn]7s2 5f14 6d7 (calculated)', 'Electronegativity': '', 'AtomicRadius': '', 'IonizationEnergy': '', 'ElectronAffinity': '', 'OxidationStates': '9, 8, 6, 4, 3, 1', 'StandardState': 'Solid', 'MeltingPoint': '', 'BoilingPoint': '', 'Density': '', 'GroupBlock': 'Transition metal', 'YearDiscovered': '1982'}\n",
      "{'AtomicNumber': '110', 'Symbol': 'Ds', 'Name': 'Darmstadtium', 'AtomicMass': '282.166', 'CPKHexColor': '', 'ElectronConfiguration': '[Rn]7s2 5f14 6d8 (predicted)', 'Electronegativity': '', 'AtomicRadius': '', 'IonizationEnergy': '', 'ElectronAffinity': '', 'OxidationStates': '8, 6, 4, 2, 0', 'StandardState': 'Expected to be a Solid', 'MeltingPoint': '', 'BoilingPoint': '', 'Density': '', 'GroupBlock': 'Transition metal', 'YearDiscovered': '1994'}\n",
      "{'AtomicNumber': '111', 'Symbol': 'Rg', 'Name': 'Roentgenium', 'AtomicMass': '282.169', 'CPKHexColor': '', 'ElectronConfiguration': '[Rn]7s2 5f14 6d9 (predicted)', 'Electronegativity': '', 'AtomicRadius': '', 'IonizationEnergy': '', 'ElectronAffinity': '', 'OxidationStates': '5, 3, 1, -1', 'StandardState': 'Expected to be a Solid', 'MeltingPoint': '', 'BoilingPoint': '', 'Density': '', 'GroupBlock': 'Transition metal', 'YearDiscovered': '1994'}\n",
      "{'AtomicNumber': '112', 'Symbol': 'Cn', 'Name': 'Copernicium', 'AtomicMass': '286.179', 'CPKHexColor': '', 'ElectronConfiguration': '[Rn]7s2 5f14 6d10 (predicted)', 'Electronegativity': '', 'AtomicRadius': '', 'IonizationEnergy': '', 'ElectronAffinity': '', 'OxidationStates': '2, 1, 0', 'StandardState': 'Expected to be a Solid', 'MeltingPoint': '', 'BoilingPoint': '', 'Density': '', 'GroupBlock': 'Transition metal', 'YearDiscovered': '1996'}\n",
      "{'AtomicNumber': '113', 'Symbol': 'Nh', 'Name': 'Nihonium', 'AtomicMass': '286.182', 'CPKHexColor': '', 'ElectronConfiguration': '[Rn]5f14 6d10 7s2 7p1 (predicted)', 'Electronegativity': '', 'AtomicRadius': '', 'IonizationEnergy': '', 'ElectronAffinity': '', 'OxidationStates': '', 'StandardState': 'Expected to be a Solid', 'MeltingPoint': '', 'BoilingPoint': '', 'Density': '', 'GroupBlock': 'Post-transition metal', 'YearDiscovered': '2004'}\n",
      "{'AtomicNumber': '114', 'Symbol': 'Fl', 'Name': 'Flerovium', 'AtomicMass': '290.192', 'CPKHexColor': '', 'ElectronConfiguration': '[Rn]7s2 7p2 5f14 6d10 (predicted)', 'Electronegativity': '', 'AtomicRadius': '', 'IonizationEnergy': '', 'ElectronAffinity': '', 'OxidationStates': '6, 4,2, 1, 0', 'StandardState': 'Expected to be a Solid', 'MeltingPoint': '', 'BoilingPoint': '', 'Density': '', 'GroupBlock': 'Post-transition metal', 'YearDiscovered': '1998'}\n",
      "{'AtomicNumber': '115', 'Symbol': 'Mc', 'Name': 'Moscovium', 'AtomicMass': '290.196', 'CPKHexColor': '', 'ElectronConfiguration': '[Rn]7s2 7p3 5f14 6d10 (predicted)', 'Electronegativity': '', 'AtomicRadius': '', 'IonizationEnergy': '', 'ElectronAffinity': '', 'OxidationStates': '3, 1', 'StandardState': 'Expected to be a Solid', 'MeltingPoint': '', 'BoilingPoint': '', 'Density': '', 'GroupBlock': 'Post-transition metal', 'YearDiscovered': '2003'}\n",
      "{'AtomicNumber': '116', 'Symbol': 'Lv', 'Name': 'Livermorium', 'AtomicMass': '293.205', 'CPKHexColor': '', 'ElectronConfiguration': '[Rn]7s2 7p4 5f14 6d10 (predicted)', 'Electronegativity': '', 'AtomicRadius': '', 'IonizationEnergy': '', 'ElectronAffinity': '', 'OxidationStates': '+4, +2, -2', 'StandardState': 'Expected to be a Solid', 'MeltingPoint': '', 'BoilingPoint': '', 'Density': '', 'GroupBlock': 'Post-transition metal', 'YearDiscovered': '2000'}\n",
      "{'AtomicNumber': '117', 'Symbol': 'Ts', 'Name': 'Tennessine', 'AtomicMass': '294.211', 'CPKHexColor': '', 'ElectronConfiguration': '[Rn]7s2 7p5 5f14 6d10 (predicted)', 'Electronegativity': '', 'AtomicRadius': '', 'IonizationEnergy': '', 'ElectronAffinity': '', 'OxidationStates': '+5, +3, +1, -1', 'StandardState': 'Expected to be a Solid', 'MeltingPoint': '', 'BoilingPoint': '', 'Density': '', 'GroupBlock': 'Halogen', 'YearDiscovered': '2010'}\n",
      "{'AtomicNumber': '118', 'Symbol': 'Og', 'Name': 'Oganesson', 'AtomicMass': '295.216', 'CPKHexColor': '', 'ElectronConfiguration': '[Rn]7s2 7p6 5f14 6d10 (predicted)', 'Electronegativity': '', 'AtomicRadius': '', 'IonizationEnergy': '', 'ElectronAffinity': '', 'OxidationStates': '+6, +4, +2, +1, 0, -1', 'StandardState': 'Expected to be a Gas', 'MeltingPoint': '', 'BoilingPoint': '', 'Density': '', 'GroupBlock': 'Noble gas', 'YearDiscovered': '2006'}\n"
     ]
    }
   ],
   "source": [
    "elems_list = []\n",
    "elems_map = {}\n",
    "\n",
    "with open(json_path, 'r') as js:\n",
    "    json_obj = json.load(js)\n",
    "    cols = json_obj['Table']['Columns']['Column']\n",
    "    rows = json_obj['Table']['Row']\n",
    "\n",
    "    for row in rows:\n",
    "        elems_map[row['Cell'][1]] = row['Cell']\n",
    "\n",
    "\n",
    "elems_map_transformed = {}\n",
    "for symb, attr in elems_map.items():\n",
    "    attr_map = {}\n",
    "    for i, att in enumerate(attr):\n",
    "        attr_map[cols[i]] = att\n",
    "    elems_map_transformed[symb] = attr_map\n",
    "        \n",
    "for symb, attr in elems_map_transformed.items():\n",
    "    print(attr)"
   ]
  },
  {
   "cell_type": "code",
   "execution_count": 60,
   "metadata": {},
   "outputs": [
    {
     "data": {
      "text/plain": [
       "103    267.122\n",
       "Name: AtomicMass, dtype: object"
      ]
     },
     "execution_count": 60,
     "metadata": {},
     "output_type": "execute_result"
    }
   ],
   "source": [
    "df.loc[df['Symbol'] == 'Rf','AtomicMass'] "
   ]
  },
  {
   "cell_type": "code",
   "execution_count": null,
   "metadata": {},
   "outputs": [],
   "source": []
  }
 ],
 "metadata": {
  "interpreter": {
   "hash": "9ebb5d3075a9dfce88b899f121ee12ac05d79c28054157a258292a5fbc5b4fbe"
  },
  "kernelspec": {
   "display_name": "Python 3 (ipykernel)",
   "language": "python",
   "name": "python3"
  },
  "language_info": {
   "codemirror_mode": {
    "name": "ipython",
    "version": 3
   },
   "file_extension": ".py",
   "mimetype": "text/x-python",
   "name": "python",
   "nbconvert_exporter": "python",
   "pygments_lexer": "ipython3",
   "version": "3.9.12"
  }
 },
 "nbformat": 4,
 "nbformat_minor": 2
}
