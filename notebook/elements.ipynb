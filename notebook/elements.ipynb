{
 "cells": [
  {
   "cell_type": "code",
   "execution_count": 2,
   "metadata": {},
   "outputs": [],
   "source": [
    "import re\n",
    "import numpy as np\n",
    "from collections import Counter"
   ]
  },
  {
   "cell_type": "code",
   "execution_count": null,
   "metadata": {},
   "outputs": [],
   "source": [
    "formula = 'C6H2(NO2)3CH3(C6H12)'\n",
    "formula2 = 'CH3(He)OH'"
   ]
  },
  {
   "cell_type": "code",
   "execution_count": null,
   "metadata": {},
   "outputs": [],
   "source": [
    "def flatten(multi_dim_list):\n",
    "    flattened = []\n",
    "    for row in multi_dim_list:\n",
    "        for col in row:\n",
    "            flattened.append(col)\n",
    "    return flattened"
   ]
  },
  {
   "cell_type": "code",
   "execution_count": null,
   "metadata": {},
   "outputs": [],
   "source": [
    "def get_multiplier(str_pattern):\n",
    "    try:\n",
    "        mult = str_pattern[1][-1]\n",
    "        mult = int(mult)\n",
    "    except ValueError:\n",
    "        mult = 1\n",
    "    except IndexError:\n",
    "        mult = 1\n",
    "    return mult"
   ]
  },
  {
   "cell_type": "code",
   "execution_count": null,
   "metadata": {},
   "outputs": [],
   "source": [
    "def get_elems_array(formula_str: str) -> []:\n",
    "    \n",
    "    elems_pt = '\\([A-Za-z0-9]*\\)\\d*' #Everything inside a parenthesis and the coeff ex: (CH3)2\n",
    "    elems_pt_compiled = re.compile(elems_pt)\n",
    "    \n",
    "    elems_inside_parens = elems_pt_compiled.findall(formula_str)\n",
    "    elems_outside_parens = re.split(elems_pt, formula_str)\n",
    "    \n",
    "    elems_count_list = []\n",
    "    \n",
    "    for elems in elems_inside_parens:\n",
    "        el = re.compile('\\(*[A-Z][a-z]*\\d*\\)*\\d*')\n",
    "        res = el.findall(elems)\n",
    "        res = [r.replace('(', '') for r in res]\n",
    "        if res:\n",
    "            multiplier = get_multiplier(res)\n",
    "    \n",
    "            res = [f'{multiplier}{r}' for r in res]\n",
    "            res = [r.replace(f'){multiplier}', '') if multiplier > 1 else r.replace(')', '') for r in res]\n",
    "            elems_count_list.append(res)\n",
    "            \n",
    "    for elems in elems_outside_parens:\n",
    "        el = re.compile('[A-Z][a-z]*\\d*')\n",
    "        res = el.findall(elems)\n",
    "        if res:\n",
    "            res = [f'1{r}' for r in res]\n",
    "            elems_count_list.append(res)\n",
    "            \n",
    "    elems_count_list = flatten(elems_count_list)\n",
    "            \n",
    "    return elems_count_list"
   ]
  },
  {
   "cell_type": "code",
   "execution_count": null,
   "metadata": {},
   "outputs": [],
   "source": [
    "def parse_formula(formula_str) -> {}:\n",
    "    \n",
    "    elems_array = get_elems_array(formula_str)\n",
    "    \n",
    "    elems_count_map_list = []\n",
    "    \n",
    "    for elems in elems_array:\n",
    "        \n",
    "        mult = int(elems[0])\n",
    "        coeff_pt = re.compile('\\d+')\n",
    "\n",
    "        coeff_res = coeff_pt.findall(elems[1:])\n",
    "\n",
    "        if coeff_res:\n",
    "            coeff = coeff_res[0]\n",
    "            num_elems = int(coeff) * mult\n",
    "        else:\n",
    "            coeff = ''\n",
    "            num_elems = 1 * mult\n",
    "            \n",
    "        symb = elems[1:].replace(coeff, '')\n",
    "        \n",
    "        elems_count_map_list.append(symb*num_elems)\n",
    "        \n",
    "    return Counter(''.join(elems_count_map_list))"
   ]
  },
  {
   "cell_type": "code",
   "execution_count": null,
   "metadata": {},
   "outputs": [],
   "source": [
    "parse_formula(formula)"
   ]
  },
  {
   "cell_type": "code",
   "execution_count": null,
   "metadata": {},
   "outputs": [],
   "source": [
    "parse_formula(formula)"
   ]
  },
  {
   "cell_type": "code",
   "execution_count": null,
   "metadata": {},
   "outputs": [],
   "source": [
    "for k, v in parse_formula(formula).items():\n",
    "    print(Elek)"
   ]
  },
  {
   "cell_type": "code",
   "execution_count": null,
   "metadata": {},
   "outputs": [],
   "source": [
    "def elementify(element_coeff_map):\n",
    "    elementified_map = {}\n",
    "    for elem, coeff in element_coeff_map.items():\n",
    "        element = Element(elem)\n",
    "        elementified_map[element] = coeff\n",
    "    return element_coeff_map"
   ]
  },
  {
   "cell_type": "code",
   "execution_count": null,
   "metadata": {},
   "outputs": [],
   "source": [
    "elementify(parse_formula(formula))"
   ]
  },
  {
   "cell_type": "code",
   "execution_count": null,
   "metadata": {},
   "outputs": [],
   "source": []
  },
  {
   "cell_type": "code",
   "execution_count": null,
   "metadata": {},
   "outputs": [],
   "source": []
  },
  {
   "cell_type": "code",
   "execution_count": null,
   "metadata": {},
   "outputs": [],
   "source": []
  },
  {
   "cell_type": "code",
   "execution_count": null,
   "metadata": {},
   "outputs": [],
   "source": []
  },
  {
   "cell_type": "code",
   "execution_count": null,
   "metadata": {},
   "outputs": [],
   "source": []
  },
  {
   "cell_type": "code",
   "execution_count": null,
   "metadata": {},
   "outputs": [],
   "source": []
  },
  {
   "cell_type": "code",
   "execution_count": null,
   "metadata": {},
   "outputs": [],
   "source": []
  },
  {
   "cell_type": "code",
   "execution_count": null,
   "metadata": {},
   "outputs": [],
   "source": []
  },
  {
   "cell_type": "code",
   "execution_count": null,
   "metadata": {},
   "outputs": [],
   "source": []
  },
  {
   "cell_type": "code",
   "execution_count": null,
   "metadata": {},
   "outputs": [],
   "source": [
    "# split by parenthesis\n",
    "paren_pt2 = '\\([A-Za-z0-9]*\\)\\d*'\n",
    "\n",
    "paren_re = re.compile(paren_pt2)\n",
    "\n",
    "elems_inside_parens = paren_re.findall(formula)\n",
    "\n",
    "elems_inside_parens"
   ]
  },
  {
   "cell_type": "code",
   "execution_count": null,
   "metadata": {},
   "outputs": [],
   "source": [
    "re.split(paren_pt2, formula)"
   ]
  },
  {
   "cell_type": "code",
   "execution_count": null,
   "metadata": {},
   "outputs": [],
   "source": []
  },
  {
   "cell_type": "code",
   "execution_count": null,
   "metadata": {},
   "outputs": [],
   "source": [
    "paren = paren_re.findall(formula)[0]\n",
    "paren"
   ]
  },
  {
   "cell_type": "code",
   "execution_count": null,
   "metadata": {},
   "outputs": [],
   "source": [
    "breakdown_list = formula.split(paren) + [paren]\n",
    "breakdown_list"
   ]
  },
  {
   "cell_type": "code",
   "execution_count": null,
   "metadata": {},
   "outputs": [],
   "source": [
    "el = re.compile('\\(*[A-Z][a-z]*\\d*\\)*\\d*')"
   ]
  },
  {
   "cell_type": "code",
   "execution_count": null,
   "metadata": {},
   "outputs": [],
   "source": [
    "for l in breakdown_list:\n",
    "    res = el.findall(l)\n",
    "    print(res)"
   ]
  },
  {
   "cell_type": "code",
   "execution_count": null,
   "metadata": {},
   "outputs": [],
   "source": [
    "int('()')"
   ]
  },
  {
   "cell_type": "code",
   "execution_count": null,
   "metadata": {},
   "outputs": [],
   "source": []
  },
  {
   "cell_type": "code",
   "execution_count": null,
   "metadata": {},
   "outputs": [],
   "source": []
  },
  {
   "cell_type": "code",
   "execution_count": null,
   "metadata": {},
   "outputs": [],
   "source": [
    "from enum import Enum, unique"
   ]
  },
  {
   "cell_type": "code",
   "execution_count": null,
   "metadata": {},
   "outputs": [],
   "source": [
    "@unique\n",
    "class Enum1(Enum):\n",
    "    A = 'A'\n",
    "    B = 'B'\n",
    "    \n",
    "@unique\n",
    "class Enum2(Enum):\n",
    "    C = '1'\n",
    "    D = '2'"
   ]
  },
  {
   "cell_type": "code",
   "execution_count": null,
   "metadata": {},
   "outputs": [],
   "source": [
    "data_dict = {\n",
    "    **{e: Enum2.C for e in Enum1},\n",
    "    **{e: Enum2.D for e in Enum1}\n",
    "}"
   ]
  },
  {
   "cell_type": "code",
   "execution_count": null,
   "metadata": {},
   "outputs": [],
   "source": [
    "data_dict.values()"
   ]
  },
  {
   "cell_type": "code",
   "execution_count": 2,
   "metadata": {},
   "outputs": [],
   "source": [
    "import pandas as pd\n",
    "import json\n",
    "from pychemkit.database.elements_data import ELEMENTS_DATA"
   ]
  },
  {
   "cell_type": "code",
   "execution_count": 3,
   "metadata": {},
   "outputs": [],
   "source": [
    "json_path = f'../pychemkit/database/PubChemElements_all.json'"
   ]
  },
  {
   "cell_type": "code",
   "execution_count": 4,
   "metadata": {},
   "outputs": [
    {
     "name": "stdout",
     "output_type": "stream",
     "text": [
      "{'atomic_number': 1.008, 'symbol': 'H', 'element_name': 'Hydrogen', 'CPKHexColor': 'FFFFFF', 'electron_configuration': '1s1', 'electronegativity': 2.2, 'atomic_radius': 120.0, 'ionization_energy': 13.598, 'electron_affinity': 0.754, 'oxidation_states': '+1, -1', 'standard_state': 'Gas', 'melting_point': 13.81, 'boiling_point': 20.28, 'density': 8.988e-05, 'group_block': 'Nonmetal', 'year_discovered': 1766.0, 'num_neutrons': 0.0}\n",
      "{'atomic_number': 4.0026, 'symbol': 'He', 'element_name': 'Helium', 'CPKHexColor': 'D9FFFF', 'electron_configuration': '1s2', 'electronegativity': '', 'atomic_radius': 140.0, 'ionization_energy': 24.587, 'electron_affinity': '', 'oxidation_states': 0.0, 'standard_state': 'Gas', 'melting_point': 0.95, 'boiling_point': 4.22, 'density': 0.0001785, 'group_block': 'Noble gas', 'year_discovered': 1868.0, 'num_neutrons': 2.0}\n",
      "{'atomic_number': 7.0, 'symbol': 'Li', 'element_name': 'Lithium', 'CPKHexColor': 'CC80FF', 'electron_configuration': '[He]2s1', 'electronegativity': 0.98, 'atomic_radius': 182.0, 'ionization_energy': 5.392, 'electron_affinity': 0.618, 'oxidation_states': 1.0, 'standard_state': 'Solid', 'melting_point': 453.65, 'boiling_point': 1615.0, 'density': 0.534, 'group_block': 'Alkali metal', 'year_discovered': 1817.0, 'num_neutrons': 4.0}\n",
      "{'atomic_number': 9.012183, 'symbol': 'Be', 'element_name': 'Beryllium', 'CPKHexColor': 'C2FF00', 'electron_configuration': '[He]2s2', 'electronegativity': 1.57, 'atomic_radius': 153.0, 'ionization_energy': 9.323, 'electron_affinity': '', 'oxidation_states': 2.0, 'standard_state': 'Solid', 'melting_point': 1560.0, 'boiling_point': 2744.0, 'density': 1.85, 'group_block': 'Alkaline earth metal', 'year_discovered': 1798.0, 'num_neutrons': 5.0}\n",
      "{'atomic_number': 10.81, 'symbol': 'B', 'element_name': 'Boron', 'CPKHexColor': 'FFB5B5', 'electron_configuration': '[He]2s2 2p1', 'electronegativity': 2.04, 'atomic_radius': 192.0, 'ionization_energy': 8.298, 'electron_affinity': 0.277, 'oxidation_states': 3.0, 'standard_state': 'Solid', 'melting_point': 2348.0, 'boiling_point': 4273.0, 'density': 2.37, 'group_block': 'Metalloid', 'year_discovered': 1808.0, 'num_neutrons': 6.0}\n",
      "{'atomic_number': 12.011, 'symbol': 'C', 'element_name': 'Carbon', 'CPKHexColor': 909090.0, 'electron_configuration': '[He]2s2 2p2', 'electronegativity': 2.55, 'atomic_radius': 170.0, 'ionization_energy': 11.26, 'electron_affinity': 1.263, 'oxidation_states': '+4, +2, -4', 'standard_state': 'Solid', 'melting_point': 3823.0, 'boiling_point': 4098.0, 'density': 2.267, 'group_block': 'Nonmetal', 'year_discovered': 'Ancient', 'num_neutrons': 6.0}\n",
      "{'atomic_number': 14.007, 'symbol': 'N', 'element_name': 'Nitrogen', 'CPKHexColor': '3050F8', 'electron_configuration': '[He] 2s2 2p3', 'electronegativity': 3.04, 'atomic_radius': 155.0, 'ionization_energy': 14.534, 'electron_affinity': '', 'oxidation_states': '+5, +4, +3, +2, +1, -1, -2, -3', 'standard_state': 'Gas', 'melting_point': 63.15, 'boiling_point': 77.36, 'density': 0.0012506, 'group_block': 'Nonmetal', 'year_discovered': 1772.0, 'num_neutrons': 7.0}\n",
      "{'atomic_number': 15.999, 'symbol': 'O', 'element_name': 'Oxygen', 'CPKHexColor': 'FF0D0D', 'electron_configuration': '[He]2s2 2p4', 'electronegativity': 3.44, 'atomic_radius': 152.0, 'ionization_energy': 13.618, 'electron_affinity': 1.461, 'oxidation_states': -2.0, 'standard_state': 'Gas', 'melting_point': 54.36, 'boiling_point': 90.2, 'density': 0.001429, 'group_block': 'Nonmetal', 'year_discovered': 1774.0, 'num_neutrons': 8.0}\n",
      "{'atomic_number': 18.99840316, 'symbol': 'F', 'element_name': 'Fluorine', 'CPKHexColor': 9e+51, 'electron_configuration': '[He]2s2 2p5', 'electronegativity': 3.98, 'atomic_radius': 135.0, 'ionization_energy': 17.423, 'electron_affinity': 3.339, 'oxidation_states': -1.0, 'standard_state': 'Gas', 'melting_point': 53.53, 'boiling_point': 85.03, 'density': 0.001696, 'group_block': 'Halogen', 'year_discovered': 1670.0, 'num_neutrons': 10.0}\n",
      "{'atomic_number': 20.18, 'symbol': 'Ne', 'element_name': 'Neon', 'CPKHexColor': 'B3E3F5', 'electron_configuration': '[He]2s2 2p6', 'electronegativity': '', 'atomic_radius': 154.0, 'ionization_energy': 21.565, 'electron_affinity': '', 'oxidation_states': 0.0, 'standard_state': 'Gas', 'melting_point': 24.56, 'boiling_point': 27.07, 'density': 0.0008999, 'group_block': 'Noble gas', 'year_discovered': 1898.0, 'num_neutrons': 10.0}\n",
      "{'atomic_number': 22.9897693, 'symbol': 'Na', 'element_name': 'Sodium', 'CPKHexColor': 'AB5CF2', 'electron_configuration': '[Ne]3s1', 'electronegativity': 0.93, 'atomic_radius': 227.0, 'ionization_energy': 5.139, 'electron_affinity': 0.548, 'oxidation_states': 1.0, 'standard_state': 'Solid', 'melting_point': 370.95, 'boiling_point': 1156.0, 'density': 0.97, 'group_block': 'Alkali metal', 'year_discovered': 1807.0, 'num_neutrons': 12.0}\n",
      "{'atomic_number': 24.305, 'symbol': 'Mg', 'element_name': 'Magnesium', 'CPKHexColor': '8AFF00', 'electron_configuration': '[Ne]3s2', 'electronegativity': 1.31, 'atomic_radius': 173.0, 'ionization_energy': 7.646, 'electron_affinity': '', 'oxidation_states': 2.0, 'standard_state': 'Solid', 'melting_point': 923.0, 'boiling_point': 1363.0, 'density': 1.74, 'group_block': 'Alkaline earth metal', 'year_discovered': 1808.0, 'num_neutrons': 12.0}\n",
      "{'atomic_number': 26.981538, 'symbol': 'Al', 'element_name': 'Aluminum', 'CPKHexColor': 'BFA6A6', 'electron_configuration': '[Ne]3s2 3p1', 'electronegativity': 1.61, 'atomic_radius': 184.0, 'ionization_energy': 5.986, 'electron_affinity': 0.441, 'oxidation_states': 3.0, 'standard_state': 'Solid', 'melting_point': 933.437, 'boiling_point': 2792.0, 'density': 2.7, 'group_block': 'Post-transition metal', 'year_discovered': 'Ancient', 'num_neutrons': 14.0}\n",
      "{'atomic_number': 28.085, 'symbol': 'Si', 'element_name': 'Silicon', 'CPKHexColor': 'F0C8A0', 'electron_configuration': '[Ne]3s2 3p2', 'electronegativity': 1.9, 'atomic_radius': 210.0, 'ionization_energy': 8.152, 'electron_affinity': 1.385, 'oxidation_states': '+4, +2, -4', 'standard_state': 'Solid', 'melting_point': 1687.0, 'boiling_point': 3538.0, 'density': 2.3296, 'group_block': 'Metalloid', 'year_discovered': 1854.0, 'num_neutrons': 14.0}\n",
      "{'atomic_number': 30.973762, 'symbol': 'P', 'element_name': 'Phosphorus', 'CPKHexColor': 'FF8000', 'electron_configuration': '[Ne]3s2 3p3', 'electronegativity': 2.19, 'atomic_radius': 180.0, 'ionization_energy': 10.487, 'electron_affinity': 0.746, 'oxidation_states': '+5, +3, -3', 'standard_state': 'Solid', 'melting_point': 317.3, 'boiling_point': 553.65, 'density': 1.82, 'group_block': 'Nonmetal', 'year_discovered': 1669.0, 'num_neutrons': 16.0}\n",
      "{'atomic_number': 32.07, 'symbol': 'S', 'element_name': 'Sulfur', 'CPKHexColor': 'FFFF30', 'electron_configuration': '[Ne]3s2 3p4', 'electronegativity': 2.58, 'atomic_radius': 180.0, 'ionization_energy': 10.36, 'electron_affinity': 2.077, 'oxidation_states': '+6, +4, -2', 'standard_state': 'Solid', 'melting_point': 388.36, 'boiling_point': 717.75, 'density': 2.067, 'group_block': 'Nonmetal', 'year_discovered': 'Ancient', 'num_neutrons': 16.0}\n",
      "{'atomic_number': 35.45, 'symbol': 'Cl', 'element_name': 'Chlorine', 'CPKHexColor': '1FF01F', 'electron_configuration': '[Ne]3s2 3p5', 'electronegativity': 3.16, 'atomic_radius': 175.0, 'ionization_energy': 12.968, 'electron_affinity': 3.617, 'oxidation_states': '+7, +5, +1, -1', 'standard_state': 'Gas', 'melting_point': 171.65, 'boiling_point': 239.11, 'density': 0.003214, 'group_block': 'Halogen', 'year_discovered': 1774.0, 'num_neutrons': 18.0}\n",
      "{'atomic_number': 39.9, 'symbol': 'Ar', 'element_name': 'Argon', 'CPKHexColor': '80D1E3', 'electron_configuration': '[Ne]3s2 3p6', 'electronegativity': '', 'atomic_radius': 188.0, 'ionization_energy': 15.76, 'electron_affinity': '', 'oxidation_states': 0.0, 'standard_state': 'Gas', 'melting_point': 83.8, 'boiling_point': 87.3, 'density': 0.0017837, 'group_block': 'Noble gas', 'year_discovered': 1894.0, 'num_neutrons': 22.0}\n",
      "{'atomic_number': 39.0983, 'symbol': 'K', 'element_name': 'Potassium', 'CPKHexColor': '8F40D4', 'electron_configuration': '[Ar]4s1', 'electronegativity': 0.82, 'atomic_radius': 275.0, 'ionization_energy': 4.341, 'electron_affinity': 0.501, 'oxidation_states': 1.0, 'standard_state': 'Solid', 'melting_point': 336.53, 'boiling_point': 1032.0, 'density': 0.89, 'group_block': 'Alkali metal', 'year_discovered': 1807.0, 'num_neutrons': 20.0}\n",
      "{'atomic_number': 40.08, 'symbol': 'Ca', 'element_name': 'Calcium', 'CPKHexColor': '3DFF00', 'electron_configuration': '[Ar]4s2', 'electronegativity': 1.0, 'atomic_radius': 231.0, 'ionization_energy': 6.113, 'electron_affinity': '', 'oxidation_states': 2.0, 'standard_state': 'Solid', 'melting_point': 1115.0, 'boiling_point': 1757.0, 'density': 1.54, 'group_block': 'Alkaline earth metal', 'year_discovered': 'Ancient', 'num_neutrons': 20.0}\n",
      "{'atomic_number': 44.95591, 'symbol': 'Sc', 'element_name': 'Scandium', 'CPKHexColor': 'E6E6E6', 'electron_configuration': '[Ar]4s2 3d1', 'electronegativity': 1.36, 'atomic_radius': 211.0, 'ionization_energy': 6.561, 'electron_affinity': 0.188, 'oxidation_states': 3.0, 'standard_state': 'Solid', 'melting_point': 1814.0, 'boiling_point': 3109.0, 'density': 2.99, 'group_block': 'Transition metal', 'year_discovered': 1879.0, 'num_neutrons': 24.0}\n",
      "{'atomic_number': 47.867, 'symbol': 'Ti', 'element_name': 'Titanium', 'CPKHexColor': 'BFC2C7', 'electron_configuration': '[Ar]4s2 3d2', 'electronegativity': 1.54, 'atomic_radius': 187.0, 'ionization_energy': 6.828, 'electron_affinity': 0.079, 'oxidation_states': '+4, +3, +2', 'standard_state': 'Solid', 'melting_point': 1941.0, 'boiling_point': 3560.0, 'density': 4.5, 'group_block': 'Transition metal', 'year_discovered': 1791.0, 'num_neutrons': 26.0}\n",
      "{'atomic_number': 50.9415, 'symbol': 'V', 'element_name': 'Vanadium', 'CPKHexColor': 'A6A6AB', 'electron_configuration': '[Ar]4s2 3d3', 'electronegativity': 1.63, 'atomic_radius': 179.0, 'ionization_energy': 6.746, 'electron_affinity': 0.525, 'oxidation_states': '+5, +4, +3, +2', 'standard_state': 'Solid', 'melting_point': 2183.0, 'boiling_point': 3680.0, 'density': 6.0, 'group_block': 'Transition metal', 'year_discovered': 1801.0, 'num_neutrons': 28.0}\n",
      "{'atomic_number': 51.996, 'symbol': 'Cr', 'element_name': 'Chromium', 'CPKHexColor': '8A99C7', 'electron_configuration': '[Ar]3d5 4s1', 'electronegativity': 1.66, 'atomic_radius': 189.0, 'ionization_energy': 6.767, 'electron_affinity': 0.666, 'oxidation_states': '+6, +3, +2', 'standard_state': 'Solid', 'melting_point': 2180.0, 'boiling_point': 2944.0, 'density': 7.15, 'group_block': 'Transition metal', 'year_discovered': 1797.0, 'num_neutrons': 28.0}\n",
      "{'atomic_number': 54.93804, 'symbol': 'Mn', 'element_name': 'Manganese', 'CPKHexColor': '9C7AC7', 'electron_configuration': '[Ar]4s2 3d5', 'electronegativity': 1.55, 'atomic_radius': 197.0, 'ionization_energy': 7.434, 'electron_affinity': '', 'oxidation_states': '+7, +4, +3, +2', 'standard_state': 'Solid', 'melting_point': 1519.0, 'boiling_point': 2334.0, 'density': 7.3, 'group_block': 'Transition metal', 'year_discovered': 1774.0, 'num_neutrons': 30.0}\n",
      "{'atomic_number': 55.84, 'symbol': 'Fe', 'element_name': 'Iron', 'CPKHexColor': 'E06633', 'electron_configuration': '[Ar]4s2 3d6', 'electronegativity': 1.83, 'atomic_radius': 194.0, 'ionization_energy': 7.902, 'electron_affinity': 0.163, 'oxidation_states': '+3, +2', 'standard_state': 'Solid', 'melting_point': 1811.0, 'boiling_point': 3134.0, 'density': 7.874, 'group_block': 'Transition metal', 'year_discovered': 'Ancient', 'num_neutrons': 30.0}\n",
      "{'atomic_number': 58.93319, 'symbol': 'Co', 'element_name': 'Cobalt', 'CPKHexColor': 'F090A0', 'electron_configuration': '[Ar]4s2 3d7', 'electronegativity': 1.88, 'atomic_radius': 192.0, 'ionization_energy': 7.881, 'electron_affinity': 0.661, 'oxidation_states': '+3, +2', 'standard_state': 'Solid', 'melting_point': 1768.0, 'boiling_point': 3200.0, 'density': 8.86, 'group_block': 'Transition metal', 'year_discovered': 1735.0, 'num_neutrons': 32.0}\n",
      "{'atomic_number': 58.693, 'symbol': 'Ni', 'element_name': 'Nickel', 'CPKHexColor': '50D050', 'electron_configuration': '[Ar]4s2 3d8', 'electronegativity': 1.91, 'atomic_radius': 163.0, 'ionization_energy': 7.64, 'electron_affinity': 1.156, 'oxidation_states': '+3, +2', 'standard_state': 'Solid', 'melting_point': 1728.0, 'boiling_point': 3186.0, 'density': 8.912, 'group_block': 'Transition metal', 'year_discovered': 1751.0, 'num_neutrons': 31.0}\n",
      "{'atomic_number': 63.55, 'symbol': 'Cu', 'element_name': 'Copper', 'CPKHexColor': 'C88033', 'electron_configuration': '[Ar]4s1 3d10', 'electronegativity': 1.9, 'atomic_radius': 140.0, 'ionization_energy': 7.726, 'electron_affinity': 1.228, 'oxidation_states': '+2, +1', 'standard_state': 'Solid', 'melting_point': 1357.77, 'boiling_point': 2835.0, 'density': 8.933, 'group_block': 'Transition metal', 'year_discovered': 'Ancient', 'num_neutrons': 35.0}\n",
      "{'atomic_number': 65.4, 'symbol': 'Zn', 'element_name': 'Zinc', 'CPKHexColor': '7D80B0', 'electron_configuration': '[Ar]4s2 3d10', 'electronegativity': 1.65, 'atomic_radius': 139.0, 'ionization_energy': 9.394, 'electron_affinity': '', 'oxidation_states': 2.0, 'standard_state': 'Solid', 'melting_point': 692.68, 'boiling_point': 1180.0, 'density': 7.134, 'group_block': 'Transition metal', 'year_discovered': 1746.0, 'num_neutrons': 35.0}\n",
      "{'atomic_number': 69.723, 'symbol': 'Ga', 'element_name': 'Gallium', 'CPKHexColor': 'C28F8F', 'electron_configuration': '[Ar]4s2 3d10 4p1', 'electronegativity': 1.81, 'atomic_radius': 187.0, 'ionization_energy': 5.999, 'electron_affinity': 0.3, 'oxidation_states': 3.0, 'standard_state': 'Solid', 'melting_point': 302.91, 'boiling_point': 2477.0, 'density': 5.91, 'group_block': 'Post-transition metal', 'year_discovered': 1875.0, 'num_neutrons': 39.0}\n",
      "{'atomic_number': 72.63, 'symbol': 'Ge', 'element_name': 'Germanium', 'CPKHexColor': '668F8F', 'electron_configuration': '[Ar]4s2 3d10 4p2', 'electronegativity': 2.01, 'atomic_radius': 211.0, 'ionization_energy': 7.9, 'electron_affinity': 1.35, 'oxidation_states': '+4, +2', 'standard_state': 'Solid', 'melting_point': 1211.4, 'boiling_point': 3106.0, 'density': 5.323, 'group_block': 'Metalloid', 'year_discovered': 1886.0, 'num_neutrons': 41.0}\n",
      "{'atomic_number': 74.92159, 'symbol': 'As', 'element_name': 'Arsenic', 'CPKHexColor': 'BD80E3', 'electron_configuration': '[Ar]4s2 3d10 4p3', 'electronegativity': 2.18, 'atomic_radius': 185.0, 'ionization_energy': 9.815, 'electron_affinity': 0.81, 'oxidation_states': '+5, +3, -3', 'standard_state': 'Solid', 'melting_point': 1090.0, 'boiling_point': 887.0, 'density': 5.776, 'group_block': 'Metalloid', 'year_discovered': 'Ancient', 'num_neutrons': 42.0}\n",
      "{'atomic_number': 78.97, 'symbol': 'Se', 'element_name': 'Selenium', 'CPKHexColor': 'FFA100', 'electron_configuration': '[Ar]4s2 3d10 4p4', 'electronegativity': 2.55, 'atomic_radius': 190.0, 'ionization_energy': 9.752, 'electron_affinity': 2.021, 'oxidation_states': '+6, +4, -2', 'standard_state': 'Solid', 'melting_point': 493.65, 'boiling_point': 958.0, 'density': 4.809, 'group_block': 'Nonmetal', 'year_discovered': 1817.0, 'num_neutrons': 45.0}\n",
      "{'atomic_number': 79.9, 'symbol': 'Br', 'element_name': 'Bromine', 'CPKHexColor': 'A62929', 'electron_configuration': '[Ar]4s2 3d10 4p5', 'electronegativity': 2.96, 'atomic_radius': 183.0, 'ionization_energy': 11.814, 'electron_affinity': 3.365, 'oxidation_states': '+5, +1, -1', 'standard_state': 'Liquid', 'melting_point': 265.95, 'boiling_point': 331.95, 'density': 3.11, 'group_block': 'Halogen', 'year_discovered': 1826.0, 'num_neutrons': 45.0}\n",
      "{'atomic_number': 83.8, 'symbol': 'Kr', 'element_name': 'Krypton', 'CPKHexColor': '5CB8D1', 'electron_configuration': '[Ar]4s2 3d10 4p6', 'electronegativity': 3.0, 'atomic_radius': 202.0, 'ionization_energy': 14.0, 'electron_affinity': '', 'oxidation_states': 0.0, 'standard_state': 'Gas', 'melting_point': 115.79, 'boiling_point': 119.93, 'density': 0.003733, 'group_block': 'Noble gas', 'year_discovered': 1898.0, 'num_neutrons': 48.0}\n",
      "{'atomic_number': 85.468, 'symbol': 'Rb', 'element_name': 'Rubidium', 'CPKHexColor': '702EB0', 'electron_configuration': '[Kr]5s1', 'electronegativity': 0.82, 'atomic_radius': 303.0, 'ionization_energy': 4.177, 'electron_affinity': 0.468, 'oxidation_states': 1.0, 'standard_state': 'Solid', 'melting_point': 312.46, 'boiling_point': 961.0, 'density': 1.53, 'group_block': 'Alkali metal', 'year_discovered': 1861.0, 'num_neutrons': 48.0}\n",
      "{'atomic_number': 87.62, 'symbol': 'Sr', 'element_name': 'Strontium', 'CPKHexColor': '00FF00', 'electron_configuration': '[Kr]5s2', 'electronegativity': 0.95, 'atomic_radius': 249.0, 'ionization_energy': 5.695, 'electron_affinity': '', 'oxidation_states': 2.0, 'standard_state': 'Solid', 'melting_point': 1050.0, 'boiling_point': 1655.0, 'density': 2.64, 'group_block': 'Alkaline earth metal', 'year_discovered': 1790.0, 'num_neutrons': 50.0}\n",
      "{'atomic_number': 88.90584, 'symbol': 'Y', 'element_name': 'Yttrium', 'CPKHexColor': '94FFFF', 'electron_configuration': '[Kr]5s2 4d1', 'electronegativity': 1.22, 'atomic_radius': 219.0, 'ionization_energy': 6.217, 'electron_affinity': 0.307, 'oxidation_states': 3.0, 'standard_state': 'Solid', 'melting_point': 1795.0, 'boiling_point': 3618.0, 'density': 4.47, 'group_block': 'Transition metal', 'year_discovered': 1794.0, 'num_neutrons': 50.0}\n",
      "{'atomic_number': 91.22, 'symbol': 'Zr', 'element_name': 'Zirconium', 'CPKHexColor': '94E0E0', 'electron_configuration': '[Kr]5s2 4d2', 'electronegativity': 1.33, 'atomic_radius': 186.0, 'ionization_energy': 6.634, 'electron_affinity': 0.426, 'oxidation_states': 4.0, 'standard_state': 'Solid', 'melting_point': 2128.0, 'boiling_point': 4682.0, 'density': 6.52, 'group_block': 'Transition metal', 'year_discovered': 1789.0, 'num_neutrons': 51.0}\n",
      "{'atomic_number': 92.90637, 'symbol': 'Nb', 'element_name': 'Niobium', 'CPKHexColor': '73C2C9', 'electron_configuration': '[Kr]5s1 4d4', 'electronegativity': 1.6, 'atomic_radius': 207.0, 'ionization_energy': 6.759, 'electron_affinity': 0.893, 'oxidation_states': '+5, +3', 'standard_state': 'Solid', 'melting_point': 2750.0, 'boiling_point': 5017.0, 'density': 8.57, 'group_block': 'Transition metal', 'year_discovered': 1801.0, 'num_neutrons': 52.0}\n",
      "{'atomic_number': 95.95, 'symbol': 'Mo', 'element_name': 'Molybdenum', 'CPKHexColor': '54B5B5', 'electron_configuration': '[Kr]5s1 4d5', 'electronegativity': 2.16, 'atomic_radius': 209.0, 'ionization_energy': 7.092, 'electron_affinity': 0.746, 'oxidation_states': 6.0, 'standard_state': 'Solid', 'melting_point': 2896.0, 'boiling_point': 4912.0, 'density': 10.2, 'group_block': 'Transition metal', 'year_discovered': 1778.0, 'num_neutrons': 54.0}\n",
      "{'atomic_number': 96.90636, 'symbol': 'Tc', 'element_name': 'Technetium', 'CPKHexColor': '3B9E9E', 'electron_configuration': '[Kr]5s2 4d5', 'electronegativity': 1.9, 'atomic_radius': 209.0, 'ionization_energy': 7.28, 'electron_affinity': 0.55, 'oxidation_states': '+7, +6, +4', 'standard_state': 'Solid', 'melting_point': 2430.0, 'boiling_point': 4538.0, 'density': 11.0, 'group_block': 'Transition metal', 'year_discovered': 1937.0, 'num_neutrons': 55.0}\n",
      "{'atomic_number': 101.1, 'symbol': 'Ru', 'element_name': 'Ruthenium', 'CPKHexColor': '248F8F', 'electron_configuration': '[Kr]5s1 4d7', 'electronegativity': 2.2, 'atomic_radius': 207.0, 'ionization_energy': 7.361, 'electron_affinity': 1.05, 'oxidation_states': 3.0, 'standard_state': 'Solid', 'melting_point': 2607.0, 'boiling_point': 4423.0, 'density': 12.1, 'group_block': 'Transition metal', 'year_discovered': 1827.0, 'num_neutrons': 57.0}\n",
      "{'atomic_number': 102.9055, 'symbol': 'Rh', 'element_name': 'Rhodium', 'CPKHexColor': '0A7D8C', 'electron_configuration': '[Kr]5s1 4d8', 'electronegativity': 2.28, 'atomic_radius': 195.0, 'ionization_energy': 7.459, 'electron_affinity': 1.137, 'oxidation_states': 3.0, 'standard_state': 'Solid', 'melting_point': 2237.0, 'boiling_point': 3968.0, 'density': 12.4, 'group_block': 'Transition metal', 'year_discovered': 1803.0, 'num_neutrons': 58.0}\n",
      "{'atomic_number': 106.42, 'symbol': 'Pd', 'element_name': 'Palladium', 'CPKHexColor': 6985.0, 'electron_configuration': '[Kr]4d10', 'electronegativity': 2.2, 'atomic_radius': 202.0, 'ionization_energy': 8.337, 'electron_affinity': 0.557, 'oxidation_states': '+3, +2', 'standard_state': 'Solid', 'melting_point': 1828.05, 'boiling_point': 3236.0, 'density': 12.0, 'group_block': 'Transition metal', 'year_discovered': 1803.0, 'num_neutrons': 60.0}\n",
      "{'atomic_number': 107.868, 'symbol': 'Ag', 'element_name': 'Silver', 'CPKHexColor': 'C0C0C0', 'electron_configuration': '[Kr]5s1 4d10', 'electronegativity': 1.93, 'atomic_radius': 172.0, 'ionization_energy': 7.576, 'electron_affinity': 1.302, 'oxidation_states': 1.0, 'standard_state': 'Solid', 'melting_point': 1234.93, 'boiling_point': 2435.0, 'density': 10.501, 'group_block': 'Transition metal', 'year_discovered': 'Ancient', 'num_neutrons': 61.0}\n",
      "{'atomic_number': 112.41, 'symbol': 'Cd', 'element_name': 'Cadmium', 'CPKHexColor': 'FFD98F', 'electron_configuration': '[Kr]5s2 4d10', 'electronegativity': 1.69, 'atomic_radius': 158.0, 'ionization_energy': 8.994, 'electron_affinity': '', 'oxidation_states': 2.0, 'standard_state': 'Solid', 'melting_point': 594.22, 'boiling_point': 1040.0, 'density': 8.69, 'group_block': 'Transition metal', 'year_discovered': 1817.0, 'num_neutrons': 64.0}\n",
      "{'atomic_number': 114.818, 'symbol': 'In', 'element_name': 'Indium', 'CPKHexColor': 'A67573', 'electron_configuration': '[Kr]5s2 4d10 5p1', 'electronegativity': 1.78, 'atomic_radius': 193.0, 'ionization_energy': 5.786, 'electron_affinity': 0.3, 'oxidation_states': 3.0, 'standard_state': 'Solid', 'melting_point': 429.75, 'boiling_point': 2345.0, 'density': 7.31, 'group_block': 'Post-transition metal', 'year_discovered': 1863.0, 'num_neutrons': 66.0}\n",
      "{'atomic_number': 118.71, 'symbol': 'Sn', 'element_name': 'Tin', 'CPKHexColor': 668080.0, 'electron_configuration': '[Kr]5s2 4d10 5p2', 'electronegativity': 1.96, 'atomic_radius': 217.0, 'ionization_energy': 7.344, 'electron_affinity': 1.2, 'oxidation_states': '+4, +2', 'standard_state': 'Solid', 'melting_point': 505.08, 'boiling_point': 2875.0, 'density': 7.287, 'group_block': 'Post-transition metal', 'year_discovered': 'Ancient', 'num_neutrons': 69.0}\n",
      "{'atomic_number': 121.76, 'symbol': 'Sb', 'element_name': 'Antimony', 'CPKHexColor': '9E63B5', 'electron_configuration': '[Kr]5s2 4d10 5p3', 'electronegativity': 2.05, 'atomic_radius': 206.0, 'ionization_energy': 8.64, 'electron_affinity': 1.07, 'oxidation_states': '+5, +3, -3', 'standard_state': 'Solid', 'melting_point': 903.78, 'boiling_point': 1860.0, 'density': 6.685, 'group_block': 'Metalloid', 'year_discovered': 'Ancient', 'num_neutrons': 71.0}\n",
      "{'atomic_number': 127.6, 'symbol': 'Te', 'element_name': 'Tellurium', 'CPKHexColor': 'D47A00', 'electron_configuration': '[Kr]5s2 4d10 5p4', 'electronegativity': 2.1, 'atomic_radius': 206.0, 'ionization_energy': 9.01, 'electron_affinity': 1.971, 'oxidation_states': '+6, +4, -2', 'standard_state': 'Solid', 'melting_point': 722.66, 'boiling_point': 1261.0, 'density': 6.232, 'group_block': 'Metalloid', 'year_discovered': 1782.0, 'num_neutrons': 76.0}\n",
      "{'atomic_number': 126.9045, 'symbol': 'I', 'element_name': 'Iodine', 'CPKHexColor': 940094.0, 'electron_configuration': '[Kr]5s2 4d10 5p5', 'electronegativity': 2.66, 'atomic_radius': 198.0, 'ionization_energy': 10.451, 'electron_affinity': 3.059, 'oxidation_states': '+7, +5, +1, -1', 'standard_state': 'Solid', 'melting_point': 386.85, 'boiling_point': 457.55, 'density': 4.93, 'group_block': 'Halogen', 'year_discovered': 1811.0, 'num_neutrons': 74.0}\n",
      "{'atomic_number': 131.29, 'symbol': 'Xe', 'element_name': 'Xenon', 'CPKHexColor': '429EB0', 'electron_configuration': '[Kr]5s2 4d10 5p6', 'electronegativity': 2.6, 'atomic_radius': 216.0, 'ionization_energy': 12.13, 'electron_affinity': '', 'oxidation_states': 0.0, 'standard_state': 'Gas', 'melting_point': 161.36, 'boiling_point': 165.03, 'density': 0.005887, 'group_block': 'Noble gas', 'year_discovered': 1898.0, 'num_neutrons': 77.0}\n",
      "{'atomic_number': 132.905452, 'symbol': 'Cs', 'element_name': 'Cesium', 'CPKHexColor': '57178F', 'electron_configuration': '[Xe]6s1', 'electronegativity': 0.79, 'atomic_radius': 343.0, 'ionization_energy': 3.894, 'electron_affinity': 0.472, 'oxidation_states': 1.0, 'standard_state': 'Solid', 'melting_point': 301.59, 'boiling_point': 944.0, 'density': 1.93, 'group_block': 'Alkali metal', 'year_discovered': 1860.0, 'num_neutrons': 78.0}\n",
      "{'atomic_number': 137.33, 'symbol': 'Ba', 'element_name': 'Barium', 'CPKHexColor': '00C900', 'electron_configuration': '[Xe]6s2', 'electronegativity': 0.89, 'atomic_radius': 268.0, 'ionization_energy': 5.212, 'electron_affinity': '', 'oxidation_states': 2.0, 'standard_state': 'Solid', 'melting_point': 1000.0, 'boiling_point': 2170.0, 'density': 3.62, 'group_block': 'Alkaline earth metal', 'year_discovered': 1808.0, 'num_neutrons': 81.0}\n",
      "{'atomic_number': 138.9055, 'symbol': 'La', 'element_name': 'Lanthanum', 'CPKHexColor': '70D4FF', 'electron_configuration': '[Xe]6s2 5d1', 'electronegativity': 1.1, 'atomic_radius': 240.0, 'ionization_energy': 5.577, 'electron_affinity': 0.5, 'oxidation_states': 3.0, 'standard_state': 'Solid', 'melting_point': 1191.0, 'boiling_point': 3737.0, 'density': 6.15, 'group_block': 'Lanthanide', 'year_discovered': 1839.0, 'num_neutrons': 82.0}\n",
      "{'atomic_number': 140.116, 'symbol': 'Ce', 'element_name': 'Cerium', 'CPKHexColor': 'FFFFC7', 'electron_configuration': '[Xe]6s2 4f1 5d1', 'electronegativity': 1.12, 'atomic_radius': 235.0, 'ionization_energy': 5.539, 'electron_affinity': 0.5, 'oxidation_states': '+4, +3', 'standard_state': 'Solid', 'melting_point': 1071.0, 'boiling_point': 3697.0, 'density': 6.77, 'group_block': 'Lanthanide', 'year_discovered': 1803.0, 'num_neutrons': 82.0}\n",
      "{'atomic_number': 140.90766, 'symbol': 'Pr', 'element_name': 'Praseodymium', 'CPKHexColor': 'D9FFC7', 'electron_configuration': '[Xe]6s2 4f3', 'electronegativity': 1.13, 'atomic_radius': 239.0, 'ionization_energy': 5.464, 'electron_affinity': '', 'oxidation_states': 3.0, 'standard_state': 'Solid', 'melting_point': 1204.0, 'boiling_point': 3793.0, 'density': 6.77, 'group_block': 'Lanthanide', 'year_discovered': 1885.0, 'num_neutrons': 82.0}\n",
      "{'atomic_number': 144.24, 'symbol': 'Nd', 'element_name': 'Neodymium', 'CPKHexColor': 'C7FFC7', 'electron_configuration': '[Xe]6s2 4f4', 'electronegativity': 1.14, 'atomic_radius': 229.0, 'ionization_energy': 5.525, 'electron_affinity': '', 'oxidation_states': 3.0, 'standard_state': 'Solid', 'melting_point': 1294.0, 'boiling_point': 3347.0, 'density': 7.01, 'group_block': 'Lanthanide', 'year_discovered': 1885.0, 'num_neutrons': 84.0}\n",
      "{'atomic_number': 144.91276, 'symbol': 'Pm', 'element_name': 'Promethium', 'CPKHexColor': 'A3FFC7', 'electron_configuration': '[Xe]6s2 4f5', 'electronegativity': '', 'atomic_radius': 236.0, 'ionization_energy': 5.55, 'electron_affinity': '', 'oxidation_states': 3.0, 'standard_state': 'Solid', 'melting_point': 1315.0, 'boiling_point': 3273.0, 'density': 7.26, 'group_block': 'Lanthanide', 'year_discovered': 1945.0, 'num_neutrons': 84.0}\n",
      "{'atomic_number': 150.4, 'symbol': 'Sm', 'element_name': 'Samarium', 'CPKHexColor': '8FFFC7', 'electron_configuration': '[Xe]6s2 4f6', 'electronegativity': 1.17, 'atomic_radius': 229.0, 'ionization_energy': 5.644, 'electron_affinity': '', 'oxidation_states': '+3, +2', 'standard_state': 'Solid', 'melting_point': 1347.0, 'boiling_point': 2067.0, 'density': 7.52, 'group_block': 'Lanthanide', 'year_discovered': 1879.0, 'num_neutrons': 88.0}\n",
      "{'atomic_number': 151.964, 'symbol': 'Eu', 'element_name': 'Europium', 'CPKHexColor': '61FFC7', 'electron_configuration': '[Xe]6s2 4f7', 'electronegativity': '', 'atomic_radius': 233.0, 'ionization_energy': 5.67, 'electron_affinity': '', 'oxidation_states': '+3, +2', 'standard_state': 'Solid', 'melting_point': 1095.0, 'boiling_point': 1802.0, 'density': 5.24, 'group_block': 'Lanthanide', 'year_discovered': 1901.0, 'num_neutrons': 89.0}\n",
      "{'atomic_number': 157.2, 'symbol': 'Gd', 'element_name': 'Gadolinium', 'CPKHexColor': '45FFC7', 'electron_configuration': '[Xe]6s2 4f7 5d1', 'electronegativity': 1.2, 'atomic_radius': 237.0, 'ionization_energy': 6.15, 'electron_affinity': '', 'oxidation_states': 3.0, 'standard_state': 'Solid', 'melting_point': 1586.0, 'boiling_point': 3546.0, 'density': 7.9, 'group_block': 'Lanthanide', 'year_discovered': 1880.0, 'num_neutrons': 93.0}\n",
      "{'atomic_number': 158.92535, 'symbol': 'Tb', 'element_name': 'Terbium', 'CPKHexColor': '30FFC7', 'electron_configuration': '[Xe]6s2 4f9', 'electronegativity': '', 'atomic_radius': 221.0, 'ionization_energy': 5.864, 'electron_affinity': '', 'oxidation_states': 3.0, 'standard_state': 'Solid', 'melting_point': 1629.0, 'boiling_point': 3503.0, 'density': 8.23, 'group_block': 'Lanthanide', 'year_discovered': 1843.0, 'num_neutrons': 94.0}\n",
      "{'atomic_number': 162.5, 'symbol': 'Dy', 'element_name': 'Dysprosium', 'CPKHexColor': '1FFFC7', 'electron_configuration': '[Xe]6s2 4f10', 'electronegativity': 1.22, 'atomic_radius': 229.0, 'ionization_energy': 5.939, 'electron_affinity': '', 'oxidation_states': 3.0, 'standard_state': 'Solid', 'melting_point': 1685.0, 'boiling_point': 2840.0, 'density': 8.55, 'group_block': 'Lanthanide', 'year_discovered': 1886.0, 'num_neutrons': 97.0}\n",
      "{'atomic_number': 164.93033, 'symbol': 'Ho', 'element_name': 'Holmium', 'CPKHexColor': '00FF9C', 'electron_configuration': '[Xe]6s2 4f11', 'electronegativity': 1.23, 'atomic_radius': 216.0, 'ionization_energy': 6.022, 'electron_affinity': '', 'oxidation_states': 3.0, 'standard_state': 'Solid', 'melting_point': 1747.0, 'boiling_point': 2973.0, 'density': 8.8, 'group_block': 'Lanthanide', 'year_discovered': 1878.0, 'num_neutrons': 98.0}\n",
      "{'atomic_number': 167.26, 'symbol': 'Er', 'element_name': 'Erbium', 'CPKHexColor': '', 'electron_configuration': '[Xe]6s2 4f12', 'electronegativity': 1.24, 'atomic_radius': 235.0, 'ionization_energy': 6.108, 'electron_affinity': '', 'oxidation_states': 3.0, 'standard_state': 'Solid', 'melting_point': 1802.0, 'boiling_point': 3141.0, 'density': 9.07, 'group_block': 'Lanthanide', 'year_discovered': 1843.0, 'num_neutrons': 99.0}\n",
      "{'atomic_number': 168.93422, 'symbol': 'Tm', 'element_name': 'Thulium', 'CPKHexColor': '00D452', 'electron_configuration': '[Xe]6s2 4f13', 'electronegativity': 1.25, 'atomic_radius': 227.0, 'ionization_energy': 6.184, 'electron_affinity': '', 'oxidation_states': 3.0, 'standard_state': 'Solid', 'melting_point': 1818.0, 'boiling_point': 2223.0, 'density': 9.32, 'group_block': 'Lanthanide', 'year_discovered': 1879.0, 'num_neutrons': 100.0}\n",
      "{'atomic_number': 173.05, 'symbol': 'Yb', 'element_name': 'Ytterbium', 'CPKHexColor': '00BF38', 'electron_configuration': '[Xe]6s2 4f14', 'electronegativity': '', 'atomic_radius': 242.0, 'ionization_energy': 6.254, 'electron_affinity': '', 'oxidation_states': '+3, +2', 'standard_state': 'Solid', 'melting_point': 1092.0, 'boiling_point': 1469.0, 'density': 6.9, 'group_block': 'Lanthanide', 'year_discovered': 1878.0, 'num_neutrons': 103.0}\n",
      "{'atomic_number': 174.9668, 'symbol': 'Lu', 'element_name': 'Lutetium', 'CPKHexColor': '00AB24', 'electron_configuration': '[Xe]6s2 4f14 5d1', 'electronegativity': 1.27, 'atomic_radius': 221.0, 'ionization_energy': 5.426, 'electron_affinity': '', 'oxidation_states': 3.0, 'standard_state': 'Solid', 'melting_point': 1936.0, 'boiling_point': 3675.0, 'density': 9.84, 'group_block': 'Lanthanide', 'year_discovered': 1907.0, 'num_neutrons': 104.0}\n",
      "{'atomic_number': 178.49, 'symbol': 'Hf', 'element_name': 'Hafnium', 'CPKHexColor': '4DC2FF', 'electron_configuration': '[Xe]6s2 4f14 5d2', 'electronegativity': 1.3, 'atomic_radius': 212.0, 'ionization_energy': 6.825, 'electron_affinity': '', 'oxidation_states': 4.0, 'standard_state': 'Solid', 'melting_point': 2506.0, 'boiling_point': 4876.0, 'density': 13.3, 'group_block': 'Transition metal', 'year_discovered': 1923.0, 'num_neutrons': 106.0}\n",
      "{'atomic_number': 180.9479, 'symbol': 'Ta', 'element_name': 'Tantalum', 'CPKHexColor': '4DA6FF', 'electron_configuration': '[Xe]6s2 4f14 5d3', 'electronegativity': 1.5, 'atomic_radius': 217.0, 'ionization_energy': 7.89, 'electron_affinity': 0.322, 'oxidation_states': 5.0, 'standard_state': 'Solid', 'melting_point': 3290.0, 'boiling_point': 5731.0, 'density': 16.4, 'group_block': 'Transition metal', 'year_discovered': 1802.0, 'num_neutrons': 108.0}\n",
      "{'atomic_number': 183.84, 'symbol': 'W', 'element_name': 'Tungsten', 'CPKHexColor': '2194D6', 'electron_configuration': '[Xe]6s2 4f14 5d4', 'electronegativity': 2.36, 'atomic_radius': 210.0, 'ionization_energy': 7.98, 'electron_affinity': 0.815, 'oxidation_states': 6.0, 'standard_state': 'Solid', 'melting_point': 3695.0, 'boiling_point': 5828.0, 'density': 19.3, 'group_block': 'Transition metal', 'year_discovered': 1783.0, 'num_neutrons': 110.0}\n",
      "{'atomic_number': 186.207, 'symbol': 'Re', 'element_name': 'Rhenium', 'CPKHexColor': '267DAB', 'electron_configuration': '[Xe]6s2 4f14 5d5', 'electronegativity': 1.9, 'atomic_radius': 217.0, 'ionization_energy': 7.88, 'electron_affinity': 0.15, 'oxidation_states': '+7, +6, +4', 'standard_state': 'Solid', 'melting_point': 3459.0, 'boiling_point': 5869.0, 'density': 20.8, 'group_block': 'Transition metal', 'year_discovered': 1925.0, 'num_neutrons': 111.0}\n",
      "{'atomic_number': 190.2, 'symbol': 'Os', 'element_name': 'Osmium', 'CPKHexColor': 266696.0, 'electron_configuration': '[Xe]6s2 4f14 5d6', 'electronegativity': 2.2, 'atomic_radius': 216.0, 'ionization_energy': 8.7, 'electron_affinity': 1.1, 'oxidation_states': '+4, +3', 'standard_state': 'Solid', 'melting_point': 3306.0, 'boiling_point': 5285.0, 'density': 22.57, 'group_block': 'Transition metal', 'year_discovered': 1803.0, 'num_neutrons': 114.0}\n",
      "{'atomic_number': 192.22, 'symbol': 'Ir', 'element_name': 'Iridium', 'CPKHexColor': 175487.0, 'electron_configuration': '[Xe]6s2 4f14 5d7', 'electronegativity': 2.2, 'atomic_radius': 202.0, 'ionization_energy': 9.1, 'electron_affinity': 1.565, 'oxidation_states': '+4, +3', 'standard_state': 'Solid', 'melting_point': 2719.0, 'boiling_point': 4701.0, 'density': 22.42, 'group_block': 'Transition metal', 'year_discovered': 1803.0, 'num_neutrons': 115.0}\n",
      "{'atomic_number': 195.08, 'symbol': 'Pt', 'element_name': 'Platinum', 'CPKHexColor': 'D0D0E0', 'electron_configuration': '[Xe]6s1 4f14 5d9', 'electronegativity': 2.28, 'atomic_radius': 209.0, 'ionization_energy': 9.0, 'electron_affinity': 2.128, 'oxidation_states': '+4, +2', 'standard_state': 'Solid', 'melting_point': 2041.55, 'boiling_point': 4098.0, 'density': 21.46, 'group_block': 'Transition metal', 'year_discovered': 1735.0, 'num_neutrons': 117.0}\n",
      "{'atomic_number': 196.96657, 'symbol': 'Au', 'element_name': 'Gold', 'CPKHexColor': 'FFD123', 'electron_configuration': '[Xe]6s1 4f14 5d10', 'electronegativity': 2.54, 'atomic_radius': 166.0, 'ionization_energy': 9.226, 'electron_affinity': 2.309, 'oxidation_states': '+3, +1', 'standard_state': 'Solid', 'melting_point': 1337.33, 'boiling_point': 3129.0, 'density': 19.282, 'group_block': 'Transition metal', 'year_discovered': 'Ancient', 'num_neutrons': 118.0}\n",
      "{'atomic_number': 200.59, 'symbol': 'Hg', 'element_name': 'Mercury', 'CPKHexColor': 'B8B8D0', 'electron_configuration': '[Xe]6s2 4f14 5d10', 'electronegativity': 2.0, 'atomic_radius': 209.0, 'ionization_energy': 10.438, 'electron_affinity': '', 'oxidation_states': '+2, +1', 'standard_state': 'Liquid', 'melting_point': 234.32, 'boiling_point': 629.88, 'density': 13.5336, 'group_block': 'Transition metal', 'year_discovered': 'Ancient', 'num_neutrons': 121.0}\n",
      "{'atomic_number': 204.383, 'symbol': 'Tl', 'element_name': 'Thallium', 'CPKHexColor': 'A6544D', 'electron_configuration': '[Xe]6s2 4f14 5d10 6p1', 'electronegativity': 1.62, 'atomic_radius': 196.0, 'ionization_energy': 6.108, 'electron_affinity': 0.2, 'oxidation_states': '+3, +1', 'standard_state': 'Solid', 'melting_point': 577.0, 'boiling_point': 1746.0, 'density': 11.8, 'group_block': 'Post-transition metal', 'year_discovered': 1861.0, 'num_neutrons': 123.0}\n",
      "{'atomic_number': 207.0, 'symbol': 'Pb', 'element_name': 'Lead', 'CPKHexColor': 575961.0, 'electron_configuration': '[Xe]6s2 4f14 5d10 6p2', 'electronegativity': 2.33, 'atomic_radius': 202.0, 'ionization_energy': 7.417, 'electron_affinity': 0.36, 'oxidation_states': '+4, +2', 'standard_state': 'Solid', 'melting_point': 600.61, 'boiling_point': 2022.0, 'density': 11.342, 'group_block': 'Post-transition metal', 'year_discovered': 'Ancient', 'num_neutrons': 125.0}\n",
      "{'atomic_number': 208.9804, 'symbol': 'Bi', 'element_name': 'Bismuth', 'CPKHexColor': '9E4FB5', 'electron_configuration': '[Xe]6s2 4f14 5d10 6p3', 'electronegativity': 2.02, 'atomic_radius': 207.0, 'ionization_energy': 7.289, 'electron_affinity': 0.946, 'oxidation_states': '+5, +3', 'standard_state': 'Solid', 'melting_point': 544.55, 'boiling_point': 1837.0, 'density': 9.807, 'group_block': 'Post-transition metal', 'year_discovered': 1753.0, 'num_neutrons': 126.0}\n",
      "{'atomic_number': 208.98243, 'symbol': 'Po', 'element_name': 'Polonium', 'CPKHexColor': 'AB5C00', 'electron_configuration': '[Xe]6s2 4f14 5d10 6p4', 'electronegativity': 2.0, 'atomic_radius': 197.0, 'ionization_energy': 8.417, 'electron_affinity': 1.9, 'oxidation_states': '+4, +2', 'standard_state': 'Solid', 'melting_point': 527.0, 'boiling_point': 1235.0, 'density': 9.32, 'group_block': 'Metalloid', 'year_discovered': 1898.0, 'num_neutrons': 126.0}\n",
      "{'atomic_number': 209.98715, 'symbol': 'At', 'element_name': 'Astatine', 'CPKHexColor': '754F45', 'electron_configuration': '[Xe]6s2 4f14 5d10 6p5', 'electronegativity': 2.2, 'atomic_radius': 202.0, 'ionization_energy': 9.5, 'electron_affinity': 2.8, 'oxidation_states': '7, 5, 3, 1, -1', 'standard_state': 'Solid', 'melting_point': 575.0, 'boiling_point': '', 'density': 7.0, 'group_block': 'Halogen', 'year_discovered': 1940.0, 'num_neutrons': 125.0}\n",
      "{'atomic_number': 222.01758, 'symbol': 'Rn', 'element_name': 'Radon', 'CPKHexColor': 428296.0, 'electron_configuration': '[Xe]6s2 4f14 5d10 6p6', 'electronegativity': '', 'atomic_radius': 220.0, 'ionization_energy': 10.745, 'electron_affinity': '', 'oxidation_states': 0.0, 'standard_state': 'Gas', 'melting_point': 202.0, 'boiling_point': 211.45, 'density': 0.00973, 'group_block': 'Noble gas', 'year_discovered': 1900.0, 'num_neutrons': 136.0}\n",
      "{'atomic_number': 223.01973, 'symbol': 'Fr', 'element_name': 'Francium', 'CPKHexColor': 420066.0, 'electron_configuration': '[Rn]7s1', 'electronegativity': 0.7, 'atomic_radius': 348.0, 'ionization_energy': 3.9, 'electron_affinity': 0.47, 'oxidation_states': 1.0, 'standard_state': 'Solid', 'melting_point': 300.0, 'boiling_point': '', 'density': '', 'group_block': 'Alkali metal', 'year_discovered': 1939.0, 'num_neutrons': 136.0}\n",
      "{'atomic_number': 226.02541, 'symbol': 'Ra', 'element_name': 'Radium', 'CPKHexColor': '007D00', 'electron_configuration': '[Rn]7s2', 'electronegativity': 0.9, 'atomic_radius': 283.0, 'ionization_energy': 5.279, 'electron_affinity': '', 'oxidation_states': 2.0, 'standard_state': 'Solid', 'melting_point': 973.0, 'boiling_point': 1413.0, 'density': 5.0, 'group_block': 'Alkaline earth metal', 'year_discovered': 1898.0, 'num_neutrons': 138.0}\n",
      "{'atomic_number': 227.02775, 'symbol': 'Ac', 'element_name': 'Actinium', 'CPKHexColor': '70ABFA', 'electron_configuration': '[Rn]7s2 6d1', 'electronegativity': 1.1, 'atomic_radius': 260.0, 'ionization_energy': 5.17, 'electron_affinity': '', 'oxidation_states': 3.0, 'standard_state': 'Solid', 'melting_point': 1324.0, 'boiling_point': 3471.0, 'density': 10.07, 'group_block': 'Actinide', 'year_discovered': 1899.0, 'num_neutrons': 138.0}\n",
      "{'atomic_number': 232.038, 'symbol': 'Th', 'element_name': 'Thorium', 'CPKHexColor': '00BAFF', 'electron_configuration': '[Rn]7s2 6d2', 'electronegativity': 1.3, 'atomic_radius': 237.0, 'ionization_energy': 6.08, 'electron_affinity': '', 'oxidation_states': 4.0, 'standard_state': 'Solid', 'melting_point': 2023.0, 'boiling_point': 5061.0, 'density': 11.72, 'group_block': 'Actinide', 'year_discovered': 1828.0, 'num_neutrons': 142.0}\n",
      "{'atomic_number': 231.03588, 'symbol': 'Pa', 'element_name': 'Protactinium', 'CPKHexColor': '00A1FF', 'electron_configuration': '[Rn]7s2 5f2 6d1', 'electronegativity': 1.5, 'atomic_radius': 243.0, 'ionization_energy': 5.89, 'electron_affinity': '', 'oxidation_states': '+5, +4', 'standard_state': 'Solid', 'melting_point': 1845.0, 'boiling_point': '', 'density': 15.37, 'group_block': 'Actinide', 'year_discovered': 1913.0, 'num_neutrons': 140.0}\n",
      "{'atomic_number': 238.0289, 'symbol': 'U', 'element_name': 'Uranium', 'CPKHexColor': '008FFF', 'electron_configuration': '[Rn]7s2 5f3 6d1', 'electronegativity': 1.38, 'atomic_radius': 240.0, 'ionization_energy': 6.194, 'electron_affinity': '', 'oxidation_states': '+6, +5, +4, +3', 'standard_state': 'Solid', 'melting_point': 1408.0, 'boiling_point': 4404.0, 'density': 18.95, 'group_block': 'Actinide', 'year_discovered': 1789.0, 'num_neutrons': 146.0}\n",
      "{'atomic_number': 237.048172, 'symbol': 'Np', 'element_name': 'Neptunium', 'CPKHexColor': '0080FF', 'electron_configuration': '[Rn]7s2 5f4 6d1', 'electronegativity': 1.36, 'atomic_radius': 221.0, 'ionization_energy': 6.266, 'electron_affinity': '', 'oxidation_states': '+6, +5, +4, +3', 'standard_state': 'Solid', 'melting_point': 917.0, 'boiling_point': 4175.0, 'density': 20.25, 'group_block': 'Actinide', 'year_discovered': 1940.0, 'num_neutrons': 144.0}\n",
      "{'atomic_number': 244.0642, 'symbol': 'Pu', 'element_name': 'Plutonium', 'CPKHexColor': '006BFF', 'electron_configuration': '[Rn]7s2 5f6', 'electronegativity': 1.28, 'atomic_radius': 243.0, 'ionization_energy': 6.06, 'electron_affinity': '', 'oxidation_states': '+6, +5, +4, +3', 'standard_state': 'Solid', 'melting_point': 913.0, 'boiling_point': 3501.0, 'density': 19.84, 'group_block': 'Actinide', 'year_discovered': 1940.0, 'num_neutrons': 150.0}\n",
      "{'atomic_number': 243.06138, 'symbol': 'Am', 'element_name': 'Americium', 'CPKHexColor': '545CF2', 'electron_configuration': '[Rn]7s2 5f7', 'electronegativity': 1.3, 'atomic_radius': 244.0, 'ionization_energy': 5.993, 'electron_affinity': '', 'oxidation_states': '+6, +5, +4, +3', 'standard_state': 'Solid', 'melting_point': 1449.0, 'boiling_point': 2284.0, 'density': 13.69, 'group_block': 'Actinide', 'year_discovered': 1944.0, 'num_neutrons': 148.0}\n",
      "{'atomic_number': 247.07035, 'symbol': 'Cm', 'element_name': 'Curium', 'CPKHexColor': '785CE3', 'electron_configuration': '[Rn]7s2 5f7 6d1', 'electronegativity': 1.3, 'atomic_radius': 245.0, 'ionization_energy': 6.02, 'electron_affinity': '', 'oxidation_states': 3.0, 'standard_state': 'Solid', 'melting_point': 1618.0, 'boiling_point': 3400.0, 'density': 13.51, 'group_block': 'Actinide', 'year_discovered': 1944.0, 'num_neutrons': 151.0}\n",
      "{'atomic_number': 247.07031, 'symbol': 'Bk', 'element_name': 'Berkelium', 'CPKHexColor': '8A4FE3', 'electron_configuration': '[Rn]7s2 5f9', 'electronegativity': 1.3, 'atomic_radius': 244.0, 'ionization_energy': 6.23, 'electron_affinity': '', 'oxidation_states': '+4, +3', 'standard_state': 'Solid', 'melting_point': 1323.0, 'boiling_point': '', 'density': 14.0, 'group_block': 'Actinide', 'year_discovered': 1949.0, 'num_neutrons': 150.0}\n",
      "{'atomic_number': 251.07959, 'symbol': 'Cf', 'element_name': 'Californium', 'CPKHexColor': 'A136D4', 'electron_configuration': '[Rn]7s2 5f10', 'electronegativity': 1.3, 'atomic_radius': 245.0, 'ionization_energy': 6.3, 'electron_affinity': '', 'oxidation_states': 3.0, 'standard_state': 'Solid', 'melting_point': 1173.0, 'boiling_point': '', 'density': '', 'group_block': 'Actinide', 'year_discovered': 1950.0, 'num_neutrons': 153.0}\n",
      "{'atomic_number': 252.083, 'symbol': 'Es', 'element_name': 'Einsteinium', 'CPKHexColor': 'B31FD4', 'electron_configuration': '[Rn]7s2 5f11', 'electronegativity': 1.3, 'atomic_radius': 245.0, 'ionization_energy': 6.42, 'electron_affinity': '', 'oxidation_states': 3.0, 'standard_state': 'Solid', 'melting_point': 1133.0, 'boiling_point': '', 'density': '', 'group_block': 'Actinide', 'year_discovered': 1952.0, 'num_neutrons': 153.0}\n",
      "{'atomic_number': 257.09511, 'symbol': 'Fm', 'element_name': 'Fermium', 'CPKHexColor': 'B31FBA', 'electron_configuration': '[Rn] 5f12 7s2', 'electronegativity': 1.3, 'atomic_radius': '', 'ionization_energy': 6.5, 'electron_affinity': '', 'oxidation_states': 3.0, 'standard_state': 'Solid', 'melting_point': 1800.0, 'boiling_point': '', 'density': '', 'group_block': 'Actinide', 'year_discovered': 1952.0, 'num_neutrons': 157.0}\n",
      "{'atomic_number': 258.09843, 'symbol': 'Md', 'element_name': 'Mendelevium', 'CPKHexColor': 'B30DA6', 'electron_configuration': '[Rn]7s2 5f13', 'electronegativity': 1.3, 'atomic_radius': '', 'ionization_energy': 6.58, 'electron_affinity': '', 'oxidation_states': '+3, +2', 'standard_state': 'Solid', 'melting_point': 1100.0, 'boiling_point': '', 'density': '', 'group_block': 'Actinide', 'year_discovered': 1955.0, 'num_neutrons': 157.0}\n",
      "{'atomic_number': 259.101, 'symbol': 'No', 'element_name': 'Nobelium', 'CPKHexColor': 'BD0D87', 'electron_configuration': '[Rn]7s2 5f14', 'electronegativity': 1.3, 'atomic_radius': '', 'ionization_energy': 6.65, 'electron_affinity': '', 'oxidation_states': '+3, +2', 'standard_state': 'Solid', 'melting_point': 1100.0, 'boiling_point': '', 'density': '', 'group_block': 'Actinide', 'year_discovered': 1957.0, 'num_neutrons': 157.0}\n",
      "{'atomic_number': 266.12, 'symbol': 'Lr', 'element_name': 'Lawrencium', 'CPKHexColor': 'C70066', 'electron_configuration': '[Rn]7s2 5f14 6d1', 'electronegativity': 1.3, 'atomic_radius': '', 'ionization_energy': '', 'electron_affinity': '', 'oxidation_states': 3.0, 'standard_state': 'Solid', 'melting_point': 1900.0, 'boiling_point': '', 'density': '', 'group_block': 'Actinide', 'year_discovered': 1961.0, 'num_neutrons': 159.0}\n",
      "{'atomic_number': 267.122, 'symbol': 'Rf', 'element_name': 'Rutherfordium', 'CPKHexColor': 'CC0059', 'electron_configuration': '[Rn]7s2 5f14 6d2', 'electronegativity': '', 'atomic_radius': '', 'ionization_energy': '', 'electron_affinity': '', 'oxidation_states': 4.0, 'standard_state': 'Solid', 'melting_point': '', 'boiling_point': '', 'density': '', 'group_block': 'Transition metal', 'year_discovered': 1964.0, 'num_neutrons': 157.0}\n",
      "{'atomic_number': 268.126, 'symbol': 'Db', 'element_name': 'Dubnium', 'CPKHexColor': 'D1004F', 'electron_configuration': '[Rn]7s2 5f14 6d3', 'electronegativity': '', 'atomic_radius': '', 'ionization_energy': '', 'electron_affinity': '', 'oxidation_states': '5, 4, 3', 'standard_state': 'Solid', 'melting_point': '', 'boiling_point': '', 'density': '', 'group_block': 'Transition metal', 'year_discovered': 1967.0, 'num_neutrons': 157.0}\n",
      "{'atomic_number': 269.128, 'symbol': 'Sg', 'element_name': 'Seaborgium', 'CPKHexColor': 'D90045', 'electron_configuration': '[Rn]7s2 5f14 6d4', 'electronegativity': '', 'atomic_radius': '', 'ionization_energy': '', 'electron_affinity': '', 'oxidation_states': '6, 5, 4, 3, 0', 'standard_state': 'Solid', 'melting_point': '', 'boiling_point': '', 'density': '', 'group_block': 'Transition metal', 'year_discovered': 1974.0, 'num_neutrons': 160.0}\n",
      "{'atomic_number': 270.133, 'symbol': 'Bh', 'element_name': 'Bohrium', 'CPKHexColor': 'E00038', 'electron_configuration': '[Rn]7s2 5f14 6d5', 'electronegativity': '', 'atomic_radius': '', 'ionization_energy': '', 'electron_affinity': '', 'oxidation_states': '7, 5, 4, 3', 'standard_state': 'Solid', 'melting_point': '', 'boiling_point': '', 'density': '', 'group_block': 'Transition metal', 'year_discovered': 1976.0, 'num_neutrons': 157.0}\n",
      "{'atomic_number': 269.1336, 'symbol': 'Hs', 'element_name': 'Hassium', 'CPKHexColor': 'E6002E', 'electron_configuration': '[Rn]7s2 5f14 6d6', 'electronegativity': '', 'atomic_radius': '', 'ionization_energy': '', 'electron_affinity': '', 'oxidation_states': '8, 6, 5, 4, 3, 2', 'standard_state': 'Solid', 'melting_point': '', 'boiling_point': '', 'density': '', 'group_block': 'Transition metal', 'year_discovered': 1984.0, 'num_neutrons': 159.0}\n",
      "{'atomic_number': 277.154, 'symbol': 'Mt', 'element_name': 'Meitnerium', 'CPKHexColor': 'EB0026', 'electron_configuration': '[Rn]7s2 5f14 6d7 (calculated)', 'electronegativity': '', 'atomic_radius': '', 'ionization_energy': '', 'electron_affinity': '', 'oxidation_states': '9, 8, 6, 4, 3, 1', 'standard_state': 'Solid', 'melting_point': '', 'boiling_point': '', 'density': '', 'group_block': 'Transition metal', 'year_discovered': 1982.0, 'num_neutrons': 159.0}\n",
      "{'atomic_number': 282.166, 'symbol': 'Ds', 'element_name': 'Darmstadtium', 'CPKHexColor': '', 'electron_configuration': '[Rn]7s2 5f14 6d8 (predicted)', 'electronegativity': '', 'atomic_radius': '', 'ionization_energy': '', 'electron_affinity': '', 'oxidation_states': '8, 6, 4, 2, 0', 'standard_state': 'Expected to be a Solid', 'melting_point': '', 'boiling_point': '', 'density': '', 'group_block': 'Transition metal', 'year_discovered': 1994.0, 'num_neutrons': 161.0}\n",
      "{'atomic_number': 282.169, 'symbol': 'Rg', 'element_name': 'Roentgenium', 'CPKHexColor': '', 'electron_configuration': '[Rn]7s2 5f14 6d9 (predicted)', 'electronegativity': '', 'atomic_radius': '', 'ionization_energy': '', 'electron_affinity': '', 'oxidation_states': '5, 3, 1, -1', 'standard_state': 'Expected to be a Solid', 'melting_point': '', 'boiling_point': '', 'density': '', 'group_block': 'Transition metal', 'year_discovered': 1994.0, 'num_neutrons': 161.0}\n",
      "{'atomic_number': 286.179, 'symbol': 'Cn', 'element_name': 'Copernicium', 'CPKHexColor': '', 'electron_configuration': '[Rn]7s2 5f14 6d10 (predicted)', 'electronegativity': '', 'atomic_radius': '', 'ionization_energy': '', 'electron_affinity': '', 'oxidation_states': '2, 1, 0', 'standard_state': 'Expected to be a Solid', 'melting_point': '', 'boiling_point': '', 'density': '', 'group_block': 'Transition metal', 'year_discovered': 1996.0, 'num_neutrons': 173.0}\n",
      "{'atomic_number': 286.182, 'symbol': 'Nh', 'element_name': 'Nihonium', 'CPKHexColor': '', 'electron_configuration': '[Rn]5f14 6d10 7s2 7p1 (predicted)', 'electronegativity': '', 'atomic_radius': '', 'ionization_energy': '', 'electron_affinity': '', 'oxidation_states': '', 'standard_state': 'Expected to be a Solid', 'melting_point': '', 'boiling_point': '', 'density': '', 'group_block': 'Post-transition metal', 'year_discovered': 2004.0, 'num_neutrons': 171.0}\n",
      "{'atomic_number': 290.192, 'symbol': 'Fl', 'element_name': 'Flerovium', 'CPKHexColor': '', 'electron_configuration': '[Rn]7s2 7p2 5f14 6d10 (predicted)', 'electronegativity': '', 'atomic_radius': '', 'ionization_energy': '', 'electron_affinity': '', 'oxidation_states': '6, 4,2, 1, 0', 'standard_state': 'Expected to be a Solid', 'melting_point': '', 'boiling_point': '', 'density': '', 'group_block': 'Post-transition metal', 'year_discovered': 1998.0, 'num_neutrons': 175.0}\n",
      "{'atomic_number': 290.196, 'symbol': 'Mc', 'element_name': 'Moscovium', 'CPKHexColor': '', 'electron_configuration': '[Rn]7s2 7p3 5f14 6d10 (predicted)', 'electronegativity': '', 'atomic_radius': '', 'ionization_energy': '', 'electron_affinity': '', 'oxidation_states': '3, 1', 'standard_state': 'Expected to be a Solid', 'melting_point': '', 'boiling_point': '', 'density': '', 'group_block': 'Post-transition metal', 'year_discovered': 2003.0, 'num_neutrons': 173.0}\n",
      "{'atomic_number': 293.205, 'symbol': 'Lv', 'element_name': 'Livermorium', 'CPKHexColor': '', 'electron_configuration': '[Rn]7s2 7p4 5f14 6d10 (predicted)', 'electronegativity': '', 'atomic_radius': '', 'ionization_energy': '', 'electron_affinity': '', 'oxidation_states': '+4, +2, -2', 'standard_state': 'Expected to be a Solid', 'melting_point': '', 'boiling_point': '', 'density': '', 'group_block': 'Post-transition metal', 'year_discovered': 2000.0, 'num_neutrons': 176.0}\n",
      "{'atomic_number': 294.211, 'symbol': 'Ts', 'element_name': 'Tennessine', 'CPKHexColor': '', 'electron_configuration': '[Rn]7s2 7p5 5f14 6d10 (predicted)', 'electronegativity': '', 'atomic_radius': '', 'ionization_energy': '', 'electron_affinity': '', 'oxidation_states': '+5, +3, +1, -1', 'standard_state': 'Expected to be a Solid', 'melting_point': '', 'boiling_point': '', 'density': '', 'group_block': 'Halogen', 'year_discovered': 2010.0, 'num_neutrons': 178.0}\n",
      "{'atomic_number': 295.216, 'symbol': 'Og', 'element_name': 'Oganesson', 'CPKHexColor': '', 'electron_configuration': '[Rn]7s2 7p6 5f14 6d10 (predicted)', 'electronegativity': '', 'atomic_radius': '', 'ionization_energy': '', 'electron_affinity': '', 'oxidation_states': '+6, +4, +2, +1, 0, -1', 'standard_state': 'Expected to be a Gas', 'melting_point': '', 'boiling_point': '', 'density': '', 'group_block': 'Noble gas', 'year_discovered': 2006.0, 'num_neutrons': 176.0}\n"
     ]
    }
   ],
   "source": [
    "elems_list = []\n",
    "elems_map = {}\n",
    "\n",
    "with open(json_path, 'r') as js:\n",
    "    json_obj = json.load(js)\n",
    "    cols = json_obj['Table']['Columns']['Column']\n",
    "    cols.append('num_neutrons')\n",
    "    rows = json_obj['Table']['Row']\n",
    "\n",
    "    for row in rows:\n",
    "        elems_map[row['Cell'][1]] = row['Cell']\n",
    "\n",
    "\n",
    "elems_map_transformed = {}\n",
    "for symb, attr in elems_map.items():\n",
    "    neut = ELEMENTS_DATA[symb]['num_neutrons']\n",
    "    attr.append(neut)\n",
    "    attr_map = {}\n",
    "    for i, att in enumerate(attr):\n",
    "        try:\n",
    "            attr_map[cols[i]] = float(att)\n",
    "        except ValueError:\n",
    "            attr_map[cols[i]] = att\n",
    "    elems_map_transformed[symb] = attr_map\n",
    "        \n",
    "for symb, attr in elems_map_transformed.items():\n",
    "    print(attr)\n",
    "    "
   ]
  },
  {
   "cell_type": "code",
   "execution_count": 60,
   "metadata": {},
   "outputs": [
    {
     "data": {
      "text/plain": [
       "103    267.122\n",
       "Name: AtomicMass, dtype: object"
      ]
     },
     "execution_count": 60,
     "metadata": {},
     "output_type": "execute_result"
    }
   ],
   "source": [
    "df.loc[df['Symbol'] == 'Rf','AtomicMass'] "
   ]
  },
  {
   "cell_type": "code",
   "execution_count": null,
   "metadata": {},
   "outputs": [],
   "source": []
  }
 ],
 "metadata": {
  "interpreter": {
   "hash": "9ebb5d3075a9dfce88b899f121ee12ac05d79c28054157a258292a5fbc5b4fbe"
  },
  "kernelspec": {
   "display_name": "Python 3 (ipykernel)",
   "language": "python",
   "name": "python3"
  },
  "language_info": {
   "codemirror_mode": {
    "name": "ipython",
    "version": 3
   },
   "file_extension": ".py",
   "mimetype": "text/x-python",
   "name": "python",
   "nbconvert_exporter": "python",
   "pygments_lexer": "ipython3",
   "version": "3.9.12"
  }
 },
 "nbformat": 4,
 "nbformat_minor": 2
}
